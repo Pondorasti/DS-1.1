{
  "nbformat": 4,
  "nbformat_minor": 0,
  "metadata": {
    "kernelspec": {
      "display_name": "Python 3",
      "language": "python",
      "name": "python3"
    },
    "language_info": {
      "codemirror_mode": {
        "name": "ipython",
        "version": 3
      },
      "file_extension": ".py",
      "mimetype": "text/x-python",
      "name": "python",
      "nbconvert_exporter": "python",
      "pygments_lexer": "ipython3",
      "version": "3.8.5"
    },
    "colab": {
      "name": "Applied_Probability.ipynb",
      "provenance": []
    }
  },
  "cells": [
    {
      "cell_type": "markdown",
      "metadata": {
        "id": "f1cncg8ufwAa"
      },
      "source": [
        "# Learning Objectives\n",
        "\n",
        "By the end of this class, you will be able to...\n",
        "\n",
        "- Write functions to compute probability and conditional probability \n",
        "- Use Bayes formula to compute conditional probability "
      ]
    },
    {
      "cell_type": "markdown",
      "metadata": {
        "id": "150KkCQGfwAb"
      },
      "source": [
        "## A Brief Introduction to Probabilistic Thinking"
      ]
    },
    {
      "cell_type": "markdown",
      "metadata": {
        "id": "hwS4DCRAfwAc"
      },
      "source": [
        "Probability is all about the **chances of an event occurring** or how likely an event is to occur, in a set of events.\n",
        "\n",
        "If you really think about it, you've been thinking about probability all of your life! \n",
        "\n",
        "Ever wondered about...\n",
        "\n",
        "> -  The chances of it raining today\n",
        "> -  The chances of winning the lottery\n",
        "> -  The chances of getting hired at Google\n",
        "\n",
        "That's probabilistic thinking! \n",
        "\n",
        "We can draw immediate connections from the world of probabilistic thinking to the world of statistical inference and analysis."
      ]
    },
    {
      "cell_type": "markdown",
      "metadata": {
        "id": "13xGUPaifwAd"
      },
      "source": [
        "In mathematics, probability is modeled by the following expression:\n",
        "\n",
        "$P(A)= \\frac{Count of A }{sample Space}$\n",
        "\n",
        "Don't fear at the sight of equations and non-numerical variables – this is much simpler than it looks! \n",
        "\n",
        "All this translates to is that **the probability of Event A occurring** in a set of observed events in _Sample Space S_ is equal to **the number of occurrences of Event A** across _Sample Space S_ divided by **the total number of observed events**. \n",
        "\n",
        "Note that since the number of occurrences of a single event can never be bigger than the total events that can occur in the sample space, the probability of an event will always be within the range: [0, 1]."
      ]
    },
    {
      "cell_type": "markdown",
      "metadata": {
        "id": "y-qvP0Z-fwAd"
      },
      "source": [
        "The closer our probability estimate is to zero (0), the less likely it is for our event in-question to occur, with a value of zero (0) indicating that our observed event didn't occur at all. \n",
        "\n",
        "The closer our probability estimate is to one (1), the more likely it is for our event in-question to occur, with a value of one (1) indicating that our observed event occurs in every observable instance.\n",
        "\n",
        "\n",
        "<img src=\"https://www2.southeastern.edu/Academics/Faculty/dgurney/Math241/StatTopics/PrbScl4.jpg\" />"
      ]
    },
    {
      "cell_type": "markdown",
      "metadata": {
        "id": "TPCCIFi3fwAe"
      },
      "source": [
        "You'll often see this represented in data sets in a number of formats. \n",
        "\n",
        "Here are some examples:\n",
        "\n",
        "| Won Lottery |\n",
        "| ----|\n",
        "| yes |\n",
        "| no  |\n",
        "| no  |\n",
        "| no  |\n",
        "\n",
        "<br>\n",
        "\n",
        "| Hired by Google |\n",
        "|------|\n",
        "| false|\n",
        "| true |\n",
        "| true |\n",
        "| false|\n",
        "\n",
        "<br>\n",
        "\n",
        "Any kind of distribution of values where our data can take one of multiple, separately-occurring **states** indicates that we can think about the probability of each state (event) occurring on its own! "
      ]
    },
    {
      "cell_type": "markdown",
      "metadata": {
        "id": "hp5pUegRfwAe"
      },
      "source": [
        "## Conditional Probability\n",
        "\n",
        "- We want to have a better guess when we have some additional observations for a random event\n",
        "\n",
        "- For example, what is the probability that someone will be hired by Google, knowing that they have a Master Degree?"
      ]
    },
    {
      "cell_type": "markdown",
      "metadata": {
        "id": "nmQgvzimfwAf"
      },
      "source": [
        "### _Example Question: I Scream for Ice Cream_"
      ]
    },
    {
      "cell_type": "markdown",
      "metadata": {
        "id": "p7Xyy6XlfwAf"
      },
      "source": [
        "70% of your friends like Chocolate, and 35% like Chocolate AND like Strawberry.\n",
        "\n",
        "What percent of those who like Chocolate also like Strawberry?"
      ]
    },
    {
      "cell_type": "markdown",
      "metadata": {
        "id": "jYBFvcodfwAf"
      },
      "source": [
        "Another way to refactor the question to fit our conditional probability model:\n",
        "\n",
        "- Given that some friends like _Chocolate_, what is the probability that they like _Strawberry_ as well?\n",
        "\n",
        "We can now attribute our events to the question parameters!\n",
        "\n",
        "- **Event A: Chocolate**\n",
        "- **Event B: Strawberry**\n",
        "\n",
        "We're already given the following:\n",
        "\n",
        "- $ P( Chocolate ) = 0.7 $\n",
        "- $ P( Chocolate \\cap Strawberry) = 0.35 $\n",
        "\n",
        "And asked the following:\n",
        "\n",
        "- $ P( Strawberry \\mid Chocolate ) = ? $"
      ]
    },
    {
      "cell_type": "markdown",
      "metadata": {
        "id": "nJDCiTTKfwAf"
      },
      "source": [
        "#### In general cases, the conditional probability of an event is described by the following equation.\n",
        "\n",
        "<br><img src=\"https://www.mathsisfun.com/data/images/probability-independent-formula2.gif\" /><br>"
      ]
    },
    {
      "cell_type": "markdown",
      "metadata": {
        "id": "BnGNL4zefwAg"
      },
      "source": [
        "Therefore, our conditional probability model now looks a little like this:\n",
        "\n",
        "$ P( Strawberry \\mid Chocolate ) = \\frac{P( Chocolate \\cap Strawberry )}{P( Chocolate )} $\n",
        "\n",
        "Plugging in our parameters gives us the following answer:\n",
        "\n",
        "$ P( Strawberry \\mid Chocolate ) = \\frac{0.35}{0.7} = 0.5 $\n",
        "\n",
        "...which confirms to us that 50% of your friends who like chocolate also like strawberry. \n",
        "\n",
        "Makes sense when you think about it! "
      ]
    },
    {
      "cell_type": "markdown",
      "metadata": {
        "id": "1hJmCwqmfwAg"
      },
      "source": [
        "## Activity (Titanic):\n",
        "\n",
        "### Given that some passengers paid over $100 for their ticket, what is the chance they survived?\n",
        "    \n",
        "There are two ways we can approach this problem.\n",
        "\n",
        "1. Calculate it directly: $P(survived = 1 | Fare > 100)$\n",
        "1. Use **Bayes' Theorem**. Bayes' Theorem describes the probability of an event, based on prior knowledge of conditions that might be related to the event. It can be calculated using this formula:\n",
        "\n",
        "$ P( A \\mid B ) = \\frac{P( B \\mid A ) * P( A )}{P( B )} $\n",
        "\n",
        "We know how to calculate $ P( B \\mid A ) $, so we can deduce the following:\n",
        "\n",
        "$ P( A \\mid B ) = \\frac{P( B \\mid A ) * P( A )}{P( B )} = \\frac{\\frac{P( A \\cap B )}{P ( A )} * P( A )}{P( B )} = \\frac{P( A \\cap B )}{P( B )} = \\frac{P(survived = 1 and Fare > 100)}{P(Fare > 100)} $"
      ]
    },
    {
      "cell_type": "markdown",
      "metadata": {
        "id": "EB60xFTyfwAg"
      },
      "source": [
        "#### Direct Solution:"
      ]
    },
    {
      "cell_type": "code",
      "metadata": {
        "id": "JN9bYyWTfwAh",
        "colab": {
          "base_uri": "https://localhost:8080/",
          "height": 419
        },
        "outputId": "14e1cfa4-058b-4803-bc6f-f3e735176d4a"
      },
      "source": [
        "import pandas as pd\n",
        "df = pd.read_csv('https://raw.githubusercontent.com/Make-School-Courses/DS-1.1-Data-Analysis/master/Notebooks/Datasets/titanic.csv')\n",
        "\n",
        "#𝑃(𝑠𝑢𝑟𝑣𝑖𝑣𝑒𝑑=1|𝐹𝑎𝑟𝑒>100) ---> P(survived and > 100) / P(> 100)\n",
        "paid_more_100_df = df[df['Fare'] > 100]\n",
        "denominator = len(paid_more_100_df)\n",
        "denominator\n",
        "\n",
        "numerator = len(df[(df['Fare'] > 100) & (df['Survived'] == 1)])\n",
        "numerator\n",
        "\n",
        "numerator / denominator\n",
        "\n",
        "df"
      ],
      "execution_count": 26,
      "outputs": [
        {
          "output_type": "execute_result",
          "data": {
            "text/html": [
              "<div>\n",
              "<style scoped>\n",
              "    .dataframe tbody tr th:only-of-type {\n",
              "        vertical-align: middle;\n",
              "    }\n",
              "\n",
              "    .dataframe tbody tr th {\n",
              "        vertical-align: top;\n",
              "    }\n",
              "\n",
              "    .dataframe thead th {\n",
              "        text-align: right;\n",
              "    }\n",
              "</style>\n",
              "<table border=\"1\" class=\"dataframe\">\n",
              "  <thead>\n",
              "    <tr style=\"text-align: right;\">\n",
              "      <th></th>\n",
              "      <th>PassengerId</th>\n",
              "      <th>Survived</th>\n",
              "      <th>Pclass</th>\n",
              "      <th>Name</th>\n",
              "      <th>Sex</th>\n",
              "      <th>Age</th>\n",
              "      <th>SibSp</th>\n",
              "      <th>Parch</th>\n",
              "      <th>Ticket</th>\n",
              "      <th>Fare</th>\n",
              "      <th>Cabin</th>\n",
              "      <th>Embarked</th>\n",
              "    </tr>\n",
              "  </thead>\n",
              "  <tbody>\n",
              "    <tr>\n",
              "      <th>0</th>\n",
              "      <td>1</td>\n",
              "      <td>0</td>\n",
              "      <td>3</td>\n",
              "      <td>Braund, Mr. Owen Harris</td>\n",
              "      <td>male</td>\n",
              "      <td>22.0</td>\n",
              "      <td>1</td>\n",
              "      <td>0</td>\n",
              "      <td>A/5 21171</td>\n",
              "      <td>7.2500</td>\n",
              "      <td>NaN</td>\n",
              "      <td>S</td>\n",
              "    </tr>\n",
              "    <tr>\n",
              "      <th>1</th>\n",
              "      <td>2</td>\n",
              "      <td>1</td>\n",
              "      <td>1</td>\n",
              "      <td>Cumings, Mrs. John Bradley (Florence Briggs Th...</td>\n",
              "      <td>female</td>\n",
              "      <td>38.0</td>\n",
              "      <td>1</td>\n",
              "      <td>0</td>\n",
              "      <td>PC 17599</td>\n",
              "      <td>71.2833</td>\n",
              "      <td>C85</td>\n",
              "      <td>C</td>\n",
              "    </tr>\n",
              "    <tr>\n",
              "      <th>2</th>\n",
              "      <td>3</td>\n",
              "      <td>1</td>\n",
              "      <td>3</td>\n",
              "      <td>Heikkinen, Miss. Laina</td>\n",
              "      <td>female</td>\n",
              "      <td>26.0</td>\n",
              "      <td>0</td>\n",
              "      <td>0</td>\n",
              "      <td>STON/O2. 3101282</td>\n",
              "      <td>7.9250</td>\n",
              "      <td>NaN</td>\n",
              "      <td>S</td>\n",
              "    </tr>\n",
              "    <tr>\n",
              "      <th>3</th>\n",
              "      <td>4</td>\n",
              "      <td>1</td>\n",
              "      <td>1</td>\n",
              "      <td>Futrelle, Mrs. Jacques Heath (Lily May Peel)</td>\n",
              "      <td>female</td>\n",
              "      <td>35.0</td>\n",
              "      <td>1</td>\n",
              "      <td>0</td>\n",
              "      <td>113803</td>\n",
              "      <td>53.1000</td>\n",
              "      <td>C123</td>\n",
              "      <td>S</td>\n",
              "    </tr>\n",
              "    <tr>\n",
              "      <th>4</th>\n",
              "      <td>5</td>\n",
              "      <td>0</td>\n",
              "      <td>3</td>\n",
              "      <td>Allen, Mr. William Henry</td>\n",
              "      <td>male</td>\n",
              "      <td>35.0</td>\n",
              "      <td>0</td>\n",
              "      <td>0</td>\n",
              "      <td>373450</td>\n",
              "      <td>8.0500</td>\n",
              "      <td>NaN</td>\n",
              "      <td>S</td>\n",
              "    </tr>\n",
              "    <tr>\n",
              "      <th>...</th>\n",
              "      <td>...</td>\n",
              "      <td>...</td>\n",
              "      <td>...</td>\n",
              "      <td>...</td>\n",
              "      <td>...</td>\n",
              "      <td>...</td>\n",
              "      <td>...</td>\n",
              "      <td>...</td>\n",
              "      <td>...</td>\n",
              "      <td>...</td>\n",
              "      <td>...</td>\n",
              "      <td>...</td>\n",
              "    </tr>\n",
              "    <tr>\n",
              "      <th>886</th>\n",
              "      <td>887</td>\n",
              "      <td>0</td>\n",
              "      <td>2</td>\n",
              "      <td>Montvila, Rev. Juozas</td>\n",
              "      <td>male</td>\n",
              "      <td>27.0</td>\n",
              "      <td>0</td>\n",
              "      <td>0</td>\n",
              "      <td>211536</td>\n",
              "      <td>13.0000</td>\n",
              "      <td>NaN</td>\n",
              "      <td>S</td>\n",
              "    </tr>\n",
              "    <tr>\n",
              "      <th>887</th>\n",
              "      <td>888</td>\n",
              "      <td>1</td>\n",
              "      <td>1</td>\n",
              "      <td>Graham, Miss. Margaret Edith</td>\n",
              "      <td>female</td>\n",
              "      <td>19.0</td>\n",
              "      <td>0</td>\n",
              "      <td>0</td>\n",
              "      <td>112053</td>\n",
              "      <td>30.0000</td>\n",
              "      <td>B42</td>\n",
              "      <td>S</td>\n",
              "    </tr>\n",
              "    <tr>\n",
              "      <th>888</th>\n",
              "      <td>889</td>\n",
              "      <td>0</td>\n",
              "      <td>3</td>\n",
              "      <td>Johnston, Miss. Catherine Helen \"Carrie\"</td>\n",
              "      <td>female</td>\n",
              "      <td>NaN</td>\n",
              "      <td>1</td>\n",
              "      <td>2</td>\n",
              "      <td>W./C. 6607</td>\n",
              "      <td>23.4500</td>\n",
              "      <td>NaN</td>\n",
              "      <td>S</td>\n",
              "    </tr>\n",
              "    <tr>\n",
              "      <th>889</th>\n",
              "      <td>890</td>\n",
              "      <td>1</td>\n",
              "      <td>1</td>\n",
              "      <td>Behr, Mr. Karl Howell</td>\n",
              "      <td>male</td>\n",
              "      <td>26.0</td>\n",
              "      <td>0</td>\n",
              "      <td>0</td>\n",
              "      <td>111369</td>\n",
              "      <td>30.0000</td>\n",
              "      <td>C148</td>\n",
              "      <td>C</td>\n",
              "    </tr>\n",
              "    <tr>\n",
              "      <th>890</th>\n",
              "      <td>891</td>\n",
              "      <td>0</td>\n",
              "      <td>3</td>\n",
              "      <td>Dooley, Mr. Patrick</td>\n",
              "      <td>male</td>\n",
              "      <td>32.0</td>\n",
              "      <td>0</td>\n",
              "      <td>0</td>\n",
              "      <td>370376</td>\n",
              "      <td>7.7500</td>\n",
              "      <td>NaN</td>\n",
              "      <td>Q</td>\n",
              "    </tr>\n",
              "  </tbody>\n",
              "</table>\n",
              "<p>891 rows × 12 columns</p>\n",
              "</div>"
            ],
            "text/plain": [
              "     PassengerId  Survived  Pclass  ...     Fare Cabin  Embarked\n",
              "0              1         0       3  ...   7.2500   NaN         S\n",
              "1              2         1       1  ...  71.2833   C85         C\n",
              "2              3         1       3  ...   7.9250   NaN         S\n",
              "3              4         1       1  ...  53.1000  C123         S\n",
              "4              5         0       3  ...   8.0500   NaN         S\n",
              "..           ...       ...     ...  ...      ...   ...       ...\n",
              "886          887         0       2  ...  13.0000   NaN         S\n",
              "887          888         1       1  ...  30.0000   B42         S\n",
              "888          889         0       3  ...  23.4500   NaN         S\n",
              "889          890         1       1  ...  30.0000  C148         C\n",
              "890          891         0       3  ...   7.7500   NaN         Q\n",
              "\n",
              "[891 rows x 12 columns]"
            ]
          },
          "metadata": {
            "tags": []
          },
          "execution_count": 26
        }
      ]
    },
    {
      "cell_type": "markdown",
      "metadata": {
        "id": "uM14KdAwfwAh"
      },
      "source": [
        "#### Bayes' Theorem Solution"
      ]
    },
    {
      "cell_type": "code",
      "metadata": {
        "id": "9qLKMGItfwAh"
      },
      "source": [
        "# Solution:\n",
        "\n"
      ],
      "execution_count": 27,
      "outputs": []
    },
    {
      "cell_type": "markdown",
      "metadata": {
        "id": "KW4yrnLQfwAi"
      },
      "source": [
        "### What is the probability that a survived passenger was man?\n",
        "\n",
        "$P(passenger = man \\mid Survived = 1)$"
      ]
    },
    {
      "cell_type": "code",
      "metadata": {
        "id": "p8ni-Zd4fwAi",
        "colab": {
          "base_uri": "https://localhost:8080/",
          "height": 419
        },
        "outputId": "38c34ac8-abce-4538-9728-dba14e04a09b"
      },
      "source": [
        "survived = len(df[df[\"Survived\"] == 1])\n",
        "survived\n",
        "male_survived = len(df[ (df[\"Survived\"] == 1) & (df[\"Sex\"] == \"male\")])\n",
        "male_survived\n",
        "male_survived / survived\n",
        "\n",
        "df"
      ],
      "execution_count": 28,
      "outputs": [
        {
          "output_type": "execute_result",
          "data": {
            "text/html": [
              "<div>\n",
              "<style scoped>\n",
              "    .dataframe tbody tr th:only-of-type {\n",
              "        vertical-align: middle;\n",
              "    }\n",
              "\n",
              "    .dataframe tbody tr th {\n",
              "        vertical-align: top;\n",
              "    }\n",
              "\n",
              "    .dataframe thead th {\n",
              "        text-align: right;\n",
              "    }\n",
              "</style>\n",
              "<table border=\"1\" class=\"dataframe\">\n",
              "  <thead>\n",
              "    <tr style=\"text-align: right;\">\n",
              "      <th></th>\n",
              "      <th>PassengerId</th>\n",
              "      <th>Survived</th>\n",
              "      <th>Pclass</th>\n",
              "      <th>Name</th>\n",
              "      <th>Sex</th>\n",
              "      <th>Age</th>\n",
              "      <th>SibSp</th>\n",
              "      <th>Parch</th>\n",
              "      <th>Ticket</th>\n",
              "      <th>Fare</th>\n",
              "      <th>Cabin</th>\n",
              "      <th>Embarked</th>\n",
              "    </tr>\n",
              "  </thead>\n",
              "  <tbody>\n",
              "    <tr>\n",
              "      <th>0</th>\n",
              "      <td>1</td>\n",
              "      <td>0</td>\n",
              "      <td>3</td>\n",
              "      <td>Braund, Mr. Owen Harris</td>\n",
              "      <td>male</td>\n",
              "      <td>22.0</td>\n",
              "      <td>1</td>\n",
              "      <td>0</td>\n",
              "      <td>A/5 21171</td>\n",
              "      <td>7.2500</td>\n",
              "      <td>NaN</td>\n",
              "      <td>S</td>\n",
              "    </tr>\n",
              "    <tr>\n",
              "      <th>1</th>\n",
              "      <td>2</td>\n",
              "      <td>1</td>\n",
              "      <td>1</td>\n",
              "      <td>Cumings, Mrs. John Bradley (Florence Briggs Th...</td>\n",
              "      <td>female</td>\n",
              "      <td>38.0</td>\n",
              "      <td>1</td>\n",
              "      <td>0</td>\n",
              "      <td>PC 17599</td>\n",
              "      <td>71.2833</td>\n",
              "      <td>C85</td>\n",
              "      <td>C</td>\n",
              "    </tr>\n",
              "    <tr>\n",
              "      <th>2</th>\n",
              "      <td>3</td>\n",
              "      <td>1</td>\n",
              "      <td>3</td>\n",
              "      <td>Heikkinen, Miss. Laina</td>\n",
              "      <td>female</td>\n",
              "      <td>26.0</td>\n",
              "      <td>0</td>\n",
              "      <td>0</td>\n",
              "      <td>STON/O2. 3101282</td>\n",
              "      <td>7.9250</td>\n",
              "      <td>NaN</td>\n",
              "      <td>S</td>\n",
              "    </tr>\n",
              "    <tr>\n",
              "      <th>3</th>\n",
              "      <td>4</td>\n",
              "      <td>1</td>\n",
              "      <td>1</td>\n",
              "      <td>Futrelle, Mrs. Jacques Heath (Lily May Peel)</td>\n",
              "      <td>female</td>\n",
              "      <td>35.0</td>\n",
              "      <td>1</td>\n",
              "      <td>0</td>\n",
              "      <td>113803</td>\n",
              "      <td>53.1000</td>\n",
              "      <td>C123</td>\n",
              "      <td>S</td>\n",
              "    </tr>\n",
              "    <tr>\n",
              "      <th>4</th>\n",
              "      <td>5</td>\n",
              "      <td>0</td>\n",
              "      <td>3</td>\n",
              "      <td>Allen, Mr. William Henry</td>\n",
              "      <td>male</td>\n",
              "      <td>35.0</td>\n",
              "      <td>0</td>\n",
              "      <td>0</td>\n",
              "      <td>373450</td>\n",
              "      <td>8.0500</td>\n",
              "      <td>NaN</td>\n",
              "      <td>S</td>\n",
              "    </tr>\n",
              "    <tr>\n",
              "      <th>...</th>\n",
              "      <td>...</td>\n",
              "      <td>...</td>\n",
              "      <td>...</td>\n",
              "      <td>...</td>\n",
              "      <td>...</td>\n",
              "      <td>...</td>\n",
              "      <td>...</td>\n",
              "      <td>...</td>\n",
              "      <td>...</td>\n",
              "      <td>...</td>\n",
              "      <td>...</td>\n",
              "      <td>...</td>\n",
              "    </tr>\n",
              "    <tr>\n",
              "      <th>886</th>\n",
              "      <td>887</td>\n",
              "      <td>0</td>\n",
              "      <td>2</td>\n",
              "      <td>Montvila, Rev. Juozas</td>\n",
              "      <td>male</td>\n",
              "      <td>27.0</td>\n",
              "      <td>0</td>\n",
              "      <td>0</td>\n",
              "      <td>211536</td>\n",
              "      <td>13.0000</td>\n",
              "      <td>NaN</td>\n",
              "      <td>S</td>\n",
              "    </tr>\n",
              "    <tr>\n",
              "      <th>887</th>\n",
              "      <td>888</td>\n",
              "      <td>1</td>\n",
              "      <td>1</td>\n",
              "      <td>Graham, Miss. Margaret Edith</td>\n",
              "      <td>female</td>\n",
              "      <td>19.0</td>\n",
              "      <td>0</td>\n",
              "      <td>0</td>\n",
              "      <td>112053</td>\n",
              "      <td>30.0000</td>\n",
              "      <td>B42</td>\n",
              "      <td>S</td>\n",
              "    </tr>\n",
              "    <tr>\n",
              "      <th>888</th>\n",
              "      <td>889</td>\n",
              "      <td>0</td>\n",
              "      <td>3</td>\n",
              "      <td>Johnston, Miss. Catherine Helen \"Carrie\"</td>\n",
              "      <td>female</td>\n",
              "      <td>NaN</td>\n",
              "      <td>1</td>\n",
              "      <td>2</td>\n",
              "      <td>W./C. 6607</td>\n",
              "      <td>23.4500</td>\n",
              "      <td>NaN</td>\n",
              "      <td>S</td>\n",
              "    </tr>\n",
              "    <tr>\n",
              "      <th>889</th>\n",
              "      <td>890</td>\n",
              "      <td>1</td>\n",
              "      <td>1</td>\n",
              "      <td>Behr, Mr. Karl Howell</td>\n",
              "      <td>male</td>\n",
              "      <td>26.0</td>\n",
              "      <td>0</td>\n",
              "      <td>0</td>\n",
              "      <td>111369</td>\n",
              "      <td>30.0000</td>\n",
              "      <td>C148</td>\n",
              "      <td>C</td>\n",
              "    </tr>\n",
              "    <tr>\n",
              "      <th>890</th>\n",
              "      <td>891</td>\n",
              "      <td>0</td>\n",
              "      <td>3</td>\n",
              "      <td>Dooley, Mr. Patrick</td>\n",
              "      <td>male</td>\n",
              "      <td>32.0</td>\n",
              "      <td>0</td>\n",
              "      <td>0</td>\n",
              "      <td>370376</td>\n",
              "      <td>7.7500</td>\n",
              "      <td>NaN</td>\n",
              "      <td>Q</td>\n",
              "    </tr>\n",
              "  </tbody>\n",
              "</table>\n",
              "<p>891 rows × 12 columns</p>\n",
              "</div>"
            ],
            "text/plain": [
              "     PassengerId  Survived  Pclass  ...     Fare Cabin  Embarked\n",
              "0              1         0       3  ...   7.2500   NaN         S\n",
              "1              2         1       1  ...  71.2833   C85         C\n",
              "2              3         1       3  ...   7.9250   NaN         S\n",
              "3              4         1       1  ...  53.1000  C123         S\n",
              "4              5         0       3  ...   8.0500   NaN         S\n",
              "..           ...       ...     ...  ...      ...   ...       ...\n",
              "886          887         0       2  ...  13.0000   NaN         S\n",
              "887          888         1       1  ...  30.0000   B42         S\n",
              "888          889         0       3  ...  23.4500   NaN         S\n",
              "889          890         1       1  ...  30.0000  C148         C\n",
              "890          891         0       3  ...   7.7500   NaN         Q\n",
              "\n",
              "[891 rows x 12 columns]"
            ]
          },
          "metadata": {
            "tags": []
          },
          "execution_count": 28
        }
      ]
    },
    {
      "cell_type": "markdown",
      "metadata": {
        "id": "h3GUOpNnfwAi"
      },
      "source": [
        "### Other challenges\n",
        "\n",
        "- Given that a passenger is under 30 but over 20 years old, what are the chances they are in first class?\n",
        "- Given that a female passenger was unmarried, what are the chances that she survived?\n",
        "- Given that a male passenger over 30 years did not survive, what are the odds that he paid less than $25 for a ticket?\n"
      ]
    },
    {
      "cell_type": "code",
      "metadata": {
        "id": "kOi19LQufwAj",
        "colab": {
          "base_uri": "https://localhost:8080/"
        },
        "outputId": "0aafd4b3-8e9b-431c-f37c-e98e0f377d78"
      },
      "source": [
        "\n",
        "male_df = df[(df[\"Age\"] > 30) & (df[\"Sex\"] == \"male\") & (df[\"Survived\"] == 0)]\n",
        "numerator = len(male_df)\n",
        "denominator = len(male_df[(male_df[\"Fare\"] < 25)])\n",
        "denominator / numerator"
      ],
      "execution_count": 38,
      "outputs": [
        {
          "output_type": "execute_result",
          "data": {
            "text/plain": [
              "0.6086956521739131"
            ]
          },
          "metadata": {
            "tags": []
          },
          "execution_count": 38
        }
      ]
    },
    {
      "cell_type": "markdown",
      "metadata": {
        "id": "_jw-Ib5KfwAj"
      },
      "source": [
        "## Tennis Dataset\n",
        "\n",
        "- This dataset contains how professional tennis players decide to play outdoor tennis based on climate conditions"
      ]
    },
    {
      "cell_type": "code",
      "metadata": {
        "id": "sMw_rGS7fwAk"
      },
      "source": [
        "import pandas as pd\n",
        "\n",
        "df = pd.read_csv('https://raw.githubusercontent.com/Make-School-Courses/DS-1.1-Data-Analysis/master/Notebooks/Datasets/tennis.txt', delimiter=\"\\t\", header=None, names=['Outlook', 'Temp', 'Humidity', 'Wind', 'Decision'])\n",
        "df"
      ],
      "execution_count": null,
      "outputs": []
    },
    {
      "cell_type": "markdown",
      "metadata": {
        "id": "SNV6vDOffwAk"
      },
      "source": [
        "## Activity: What is the probability that a Tennis player plays when Wind is Weak?"
      ]
    },
    {
      "cell_type": "code",
      "metadata": {
        "id": "MZ2KdBBsfwAk"
      },
      "source": [
        "#given wind is weak, what is probability that tennis player will play\n",
        "\n",
        "weak_wind = len(df[(df[\"Wind\"] == \"Weak\") & (df[\"Decision\"] == \"Yes\")])\n",
        "total = len(df[(df[\"Wind\"] == \"Weak\")])\n",
        "\n",
        "weak_wind / total"
      ],
      "execution_count": null,
      "outputs": []
    },
    {
      "cell_type": "markdown",
      "metadata": {
        "id": "xj2OP5s-fwAk"
      },
      "source": [
        "## Activity: Write a function that takes Wind conditions (Weak or Strong) and returns the Tennis Player Decision"
      ]
    },
    {
      "cell_type": "code",
      "metadata": {
        "id": "wcAmlhszfwAl"
      },
      "source": [
        ""
      ],
      "execution_count": null,
      "outputs": []
    }
  ]
}