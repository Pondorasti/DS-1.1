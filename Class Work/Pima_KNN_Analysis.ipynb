{
  "nbformat": 4,
  "nbformat_minor": 0,
  "metadata": {
    "colab": {
      "name": "Pima_KNN_Analysis.ipynb",
      "provenance": [],
      "collapsed_sections": []
    },
    "kernelspec": {
      "name": "python3",
      "display_name": "Python 3",
      "language": "python"
    }
  },
  "cells": [
    {
      "cell_type": "code",
      "metadata": {
        "id": "CNqjc3qNCcES",
        "colab": {
          "base_uri": "https://localhost:8080/",
          "height": 419
        },
        "outputId": "02264a95-ac19-433d-914c-d6c2c5f8c639"
      },
      "source": [
        "#Exploratory Data Analysis\n",
        "#First Part of DS 1.1\n",
        "#pandas commands and filtering\n",
        "#visualizations to explore data\n",
        "#clean data\n",
        "#descritive stats, probabilty, hypothesis testing\n",
        "#machine learning pipeline\n",
        "# - clean data, dropping missing or dealing with missing, removing or detecting outliers\n",
        "# - extracting features, deciding what to predict\n",
        "\n",
        "import pandas as pd\n",
        "\n",
        "df = pd.read_csv(\"datasets/diabetes.csv\")\n",
        "df"
      ],
      "execution_count": 1,
      "outputs": [
        {
          "output_type": "execute_result",
          "data": {
            "text/plain": [
              "     Pregnancies  Glucose  BloodPressure  SkinThickness  Insulin   BMI  \\\n",
              "0              6      148             72             35        0  33.6   \n",
              "1              1       85             66             29        0  26.6   \n",
              "2              8      183             64              0        0  23.3   \n",
              "3              1       89             66             23       94  28.1   \n",
              "4              0      137             40             35      168  43.1   \n",
              "..           ...      ...            ...            ...      ...   ...   \n",
              "763           10      101             76             48      180  32.9   \n",
              "764            2      122             70             27        0  36.8   \n",
              "765            5      121             72             23      112  26.2   \n",
              "766            1      126             60              0        0  30.1   \n",
              "767            1       93             70             31        0  30.4   \n",
              "\n",
              "     DiabetesPedigreeFunction  Age  Outcome  \n",
              "0                       0.627   50        1  \n",
              "1                       0.351   31        0  \n",
              "2                       0.672   32        1  \n",
              "3                       0.167   21        0  \n",
              "4                       2.288   33        1  \n",
              "..                        ...  ...      ...  \n",
              "763                     0.171   63        0  \n",
              "764                     0.340   27        0  \n",
              "765                     0.245   30        0  \n",
              "766                     0.349   47        1  \n",
              "767                     0.315   23        0  \n",
              "\n",
              "[768 rows x 9 columns]"
            ],
            "text/html": "<div>\n<style scoped>\n    .dataframe tbody tr th:only-of-type {\n        vertical-align: middle;\n    }\n\n    .dataframe tbody tr th {\n        vertical-align: top;\n    }\n\n    .dataframe thead th {\n        text-align: right;\n    }\n</style>\n<table border=\"1\" class=\"dataframe\">\n  <thead>\n    <tr style=\"text-align: right;\">\n      <th></th>\n      <th>Pregnancies</th>\n      <th>Glucose</th>\n      <th>BloodPressure</th>\n      <th>SkinThickness</th>\n      <th>Insulin</th>\n      <th>BMI</th>\n      <th>DiabetesPedigreeFunction</th>\n      <th>Age</th>\n      <th>Outcome</th>\n    </tr>\n  </thead>\n  <tbody>\n    <tr>\n      <th>0</th>\n      <td>6</td>\n      <td>148</td>\n      <td>72</td>\n      <td>35</td>\n      <td>0</td>\n      <td>33.6</td>\n      <td>0.627</td>\n      <td>50</td>\n      <td>1</td>\n    </tr>\n    <tr>\n      <th>1</th>\n      <td>1</td>\n      <td>85</td>\n      <td>66</td>\n      <td>29</td>\n      <td>0</td>\n      <td>26.6</td>\n      <td>0.351</td>\n      <td>31</td>\n      <td>0</td>\n    </tr>\n    <tr>\n      <th>2</th>\n      <td>8</td>\n      <td>183</td>\n      <td>64</td>\n      <td>0</td>\n      <td>0</td>\n      <td>23.3</td>\n      <td>0.672</td>\n      <td>32</td>\n      <td>1</td>\n    </tr>\n    <tr>\n      <th>3</th>\n      <td>1</td>\n      <td>89</td>\n      <td>66</td>\n      <td>23</td>\n      <td>94</td>\n      <td>28.1</td>\n      <td>0.167</td>\n      <td>21</td>\n      <td>0</td>\n    </tr>\n    <tr>\n      <th>4</th>\n      <td>0</td>\n      <td>137</td>\n      <td>40</td>\n      <td>35</td>\n      <td>168</td>\n      <td>43.1</td>\n      <td>2.288</td>\n      <td>33</td>\n      <td>1</td>\n    </tr>\n    <tr>\n      <th>...</th>\n      <td>...</td>\n      <td>...</td>\n      <td>...</td>\n      <td>...</td>\n      <td>...</td>\n      <td>...</td>\n      <td>...</td>\n      <td>...</td>\n      <td>...</td>\n    </tr>\n    <tr>\n      <th>763</th>\n      <td>10</td>\n      <td>101</td>\n      <td>76</td>\n      <td>48</td>\n      <td>180</td>\n      <td>32.9</td>\n      <td>0.171</td>\n      <td>63</td>\n      <td>0</td>\n    </tr>\n    <tr>\n      <th>764</th>\n      <td>2</td>\n      <td>122</td>\n      <td>70</td>\n      <td>27</td>\n      <td>0</td>\n      <td>36.8</td>\n      <td>0.340</td>\n      <td>27</td>\n      <td>0</td>\n    </tr>\n    <tr>\n      <th>765</th>\n      <td>5</td>\n      <td>121</td>\n      <td>72</td>\n      <td>23</td>\n      <td>112</td>\n      <td>26.2</td>\n      <td>0.245</td>\n      <td>30</td>\n      <td>0</td>\n    </tr>\n    <tr>\n      <th>766</th>\n      <td>1</td>\n      <td>126</td>\n      <td>60</td>\n      <td>0</td>\n      <td>0</td>\n      <td>30.1</td>\n      <td>0.349</td>\n      <td>47</td>\n      <td>1</td>\n    </tr>\n    <tr>\n      <th>767</th>\n      <td>1</td>\n      <td>93</td>\n      <td>70</td>\n      <td>31</td>\n      <td>0</td>\n      <td>30.4</td>\n      <td>0.315</td>\n      <td>23</td>\n      <td>0</td>\n    </tr>\n  </tbody>\n</table>\n<p>768 rows × 9 columns</p>\n</div>"
          },
          "metadata": {},
          "execution_count": 1
        }
      ]
    },
    {
      "cell_type": "code",
      "metadata": {
        "colab": {
          "base_uri": "https://localhost:8080/"
        },
        "id": "0EgOw_LTNLYH",
        "outputId": "9758fa6c-06ac-4737-9a21-60f51af6756a"
      },
      "source": [
        "from sklearn.model_selection import train_test_split \n",
        "from sklearn.neighbors import KNeighborsClassifier\n",
        "#features\n",
        "X = df.drop(\"Outcome\", axis=1)\n",
        "\n",
        "#target\n",
        "y = df[\"Outcome\"]\n",
        "\n",
        "#train test split\n",
        "#70% train, 30% test \n",
        "X_train, X_test, y_train, y_test = train_test_split(X, y)\n",
        "\n",
        "# How do we figure out what value of K, how many neighbors?\n",
        "# K is considered a hyper parameter\n",
        "\n",
        "# try multiple values of a hyper parameter and then chose which one performs \"best\" based \n",
        "# on your evaluation metric\n",
        "\n",
        "# basic form of hyperparameter tuning\n",
        "for k in range(1, 11): # this is called grid search\n",
        "  # get an object representing our model or algorithm\n",
        "  knn = KNeighborsClassifier(n_neighbors=k)\n",
        "\n",
        "  # \"fit\" or train model on training data\n",
        "  knn.fit(X_train, y_train)\n",
        "\n",
        "  print(\"K:\", k)\n",
        "  print(\"Train:\", knn.score(X_train, y_train))\n",
        "  print(\"Test:\", knn.score(X_test, y_test))\n",
        "  print()"
      ],
      "execution_count": 2,
      "outputs": [
        {
          "output_type": "stream",
          "name": "stdout",
          "text": [
            "K: 1\n",
            "Train: 1.0\n",
            "Test: 0.6822916666666666\n",
            "\n",
            "K: 2\n",
            "Train: 0.8402777777777778\n",
            "Test: 0.671875\n",
            "\n",
            "K: 3\n",
            "Train: 0.84375\n",
            "Test: 0.7239583333333334\n",
            "\n",
            "K: 4\n",
            "Train: 0.8055555555555556\n",
            "Test: 0.7135416666666666\n",
            "\n",
            "K: 5\n",
            "Train: 0.7934027777777778\n",
            "Test: 0.7083333333333334\n",
            "\n",
            "K: 6\n",
            "Train: 0.7829861111111112\n",
            "Test: 0.7395833333333334\n",
            "\n",
            "K: 7\n",
            "Train: 0.7916666666666666\n",
            "Test: 0.71875\n",
            "\n",
            "K: 8\n",
            "Train: 0.7864583333333334\n",
            "Test: 0.7447916666666666\n",
            "\n",
            "K: 9\n",
            "Train: 0.7847222222222222\n",
            "Test: 0.75\n",
            "\n",
            "K: 10\n",
            "Train: 0.78125\n",
            "Test: 0.7708333333333334\n",
            "\n"
          ]
        }
      ]
    }
  ]
}