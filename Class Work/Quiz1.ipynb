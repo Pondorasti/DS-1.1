{
  "nbformat": 4,
  "nbformat_minor": 0,
  "metadata": {
    "kernelspec": {
      "display_name": "Python 3",
      "language": "python",
      "name": "python3"
    },
    "language_info": {
      "codemirror_mode": {
        "name": "ipython",
        "version": 3
      },
      "file_extension": ".py",
      "mimetype": "text/x-python",
      "name": "python",
      "nbconvert_exporter": "python",
      "pygments_lexer": "ipython3",
      "version": "3.7.3"
    },
    "colab": {
      "name": "DS1.1_Quiz1.ipynb",
      "provenance": [],
      "collapsed_sections": []
    }
  },
  "cells": [
    {
      "cell_type": "markdown",
      "metadata": {
        "id": "H1icGh8kbjfw"
      },
      "source": [
        "# Quiz 1\n",
        "\n",
        "In this quiz we will apply some of the techniques we learned in class to analyze the cereal dataset downloaded from here: https://www.kaggle.com/crawford/80-cereals"
      ]
    },
    {
      "cell_type": "markdown",
      "metadata": {
        "id": "hx7gpccSbjfx"
      },
      "source": [
        "## Question 1\n",
        "\n",
        "The manufacturer of the cereal is indicated by a letter in the \"mfr\" column. What manufacturer manufactured the most cereals and what one manufactured the least in this data set? Use a graph or visualization to support your answer. "
      ]
    },
    {
      "cell_type": "code",
      "metadata": {
        "id": "eqFfB_ddbjfy",
        "colab": {
          "base_uri": "https://localhost:8080/",
          "height": 296
        },
        "outputId": "3db18433-fce4-4989-a20c-30ea77acbc75"
      },
      "source": [
        "import pandas as pd\n",
        "import seaborn as sns\n",
        "\n",
        "df = pd.read_csv(\"https://raw.githubusercontent.com/Make-School-Courses/DS-1.1-Data-Analysis/master/Notebooks/Datasets/cereal.csv\")\n",
        "\n",
        "sns.countplot(x=\"mfr\", data=df)"
      ],
      "execution_count": 17,
      "outputs": [
        {
          "output_type": "execute_result",
          "data": {
            "text/plain": [
              "<matplotlib.axes._subplots.AxesSubplot at 0x7fbf46ce04e0>"
            ]
          },
          "metadata": {
            "tags": []
          },
          "execution_count": 17
        },
        {
          "output_type": "display_data",
          "data": {
            "image/png": "[encoded data removed]",
            "text/plain": [
              "<Figure size 432x288 with 1 Axes>"
            ]
          },
          "metadata": {
            "tags": [],
            "needs_background": "light"
          }
        }
      ]
    },
    {
      "cell_type": "markdown",
      "metadata": {
        "id": "lUIO-x7kOjmB"
      },
      "source": [
        "Brank `K` manufactured the most cereals, while brand `A` manufactured the least cereals."
      ]
    },
    {
      "cell_type": "markdown",
      "metadata": {
        "id": "pxc2GVU3bjfy"
      },
      "source": [
        "## Question 2\n",
        "\n",
        "What is the average amount of sugars based on manufacturer for cold cereals? Or worded another way what is the average amount of sugars for each manufacturer for cold cereals? (Cold cereal indicated by \"C\" in the type column)? Support your answer with a graph or visualization. Hint: groupby and mean will be helpful here"
      ]
    },
    {
      "cell_type": "code",
      "metadata": {
        "id": "W5aI_LO4bjfz",
        "colab": {
          "base_uri": "https://localhost:8080/"
        },
        "outputId": "0ae314cb-6cdb-47b4-a8e8-4c690f0f890b"
      },
      "source": [
        "#TODO: what is the average amount of sugars for each manufacturer for cold cereals\n",
        "avg_df = df[df[\"type\"] == \"C\"].groupby(\"mfr\").mean()\n",
        "\n",
        "avg_df[\"sugars\"]"
      ],
      "execution_count": 33,
      "outputs": [
        {
          "output_type": "execute_result",
          "data": {
            "text/plain": [
              "mfr\n",
              "G    7.954545\n",
              "K    7.565217\n",
              "N    2.200000\n",
              "P    8.777778\n",
              "Q    6.142857\n",
              "R    6.125000\n",
              "Name: sugars, dtype: float64"
            ]
          },
          "metadata": {
            "tags": []
          },
          "execution_count": 33
        }
      ]
    },
    {
      "cell_type": "code",
      "metadata": {
        "id": "GdF2wxdabjfz",
        "colab": {
          "base_uri": "https://localhost:8080/",
          "height": 296
        },
        "outputId": "8d2e34db-a592-40d0-e5cd-1565bae9c874"
      },
      "source": [
        "avg_df.plot.bar(y=\"sugars\", rot=0)"
      ],
      "execution_count": 35,
      "outputs": [
        {
          "output_type": "execute_result",
          "data": {
            "text/plain": [
              "<matplotlib.axes._subplots.AxesSubplot at 0x7fbf3e0c7470>"
            ]
          },
          "metadata": {
            "tags": []
          },
          "execution_count": 35
        },
        {
          "output_type": "display_data",
          "data": {
            "image/png": "[encoded data removed]",
            "text/plain": [
              "<Figure size 432x288 with 1 Axes>"
            ]
          },
          "metadata": {
            "tags": [],
            "needs_background": "light"
          }
        }
      ]
    }
  ]
}