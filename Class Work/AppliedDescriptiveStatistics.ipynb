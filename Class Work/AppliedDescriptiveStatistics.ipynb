{
  "nbformat": 4,
  "nbformat_minor": 0,
  "metadata": {
    "kernelspec": {
      "display_name": "Python 3",
      "language": "python",
      "name": "python3"
    },
    "language_info": {
      "codemirror_mode": {
        "name": "ipython",
        "version": 3
      },
      "file_extension": ".py",
      "mimetype": "text/x-python",
      "name": "python",
      "nbconvert_exporter": "python",
      "pygments_lexer": "ipython3",
      "version": "3.8.3-final"
    },
    "colab": {
      "name": "Applied_Descriptive_Statistics.ipynb",
      "provenance": []
    }
  },
  "cells": [
    {
      "cell_type": "markdown",
      "metadata": {
        "id": "ozdZIXIpfNph"
      },
      "source": [
        "# Learning Objectives\n",
        "\n",
        "At the end of this class, you will be able to...\n",
        "\n",
        "- Write down functions to compute mean, median and mode \n",
        "\n",
        "- Describe variance and what it reflects \n",
        "\n",
        "- Express the meaning of percentile"
      ]
    },
    {
      "cell_type": "markdown",
      "metadata": {
        "id": "axOCXi2mfNpj"
      },
      "source": [
        "# An Introduction to Descriptive Statistics\n",
        "\n",
        "- At this point in our course, we've had plenty of time, experience, and practice in manipulating our data. \n",
        "\n",
        "- However, to really _understand_ our data and underlying patterns across it, we need to dive a layer deeper into the mathematics behind data mechanics and dynamics.\n",
        "\n",
        "- In order to be able to draw conclusions from our data, we need to be able to **describe and interpret our data**.\n",
        "\n",
        "- This will become essential for more advanced data science concepts in data visualization, machine learning, and deep learning."
      ]
    },
    {
      "cell_type": "markdown",
      "metadata": {
        "id": "o7qqjQLufNpk"
      },
      "source": [
        "## Measures of Central Tendency\n",
        "\n",
        "A [**Central Tendency**](https://en.wikipedia.org/wiki/Central_tendency) is a central (typical) value for a probability distribution\n",
        "\n",
        "- In statistics, we often find that describing data by _averages_ allows us to more often make more powerful assertions regarding the data as a whole. \n",
        "\n",
        "- We often use **three key measures of central tendency** to help describe the **centroid** (arithmetic mean trend across a distribution) of our data:\n",
        "    - **Mean**\n",
        "    - **Median**\n",
        "    - **Mode**"
      ]
    },
    {
      "cell_type": "markdown",
      "metadata": {
        "id": "qjXpioLgfNpk"
      },
      "source": [
        "### The mean is the raw average value across our data. \n",
        "\n",
        "Calculating the mean is simple: _compute the sum of all values across our data and divide by the total number of values in our dataset_.\n",
        "\n",
        "We've been using the mean for years and years, but such a surprisingly simple arithmetic calculation turns out to have massive implications across being able to critically understand and break down complex datasets! \n"
      ]
    },
    {
      "cell_type": "markdown",
      "metadata": {
        "id": "fKhWjU5rfNpk"
      },
      "source": [
        "### Activity: _Write a function to compute the mean from an arbitrary dataset._"
      ]
    },
    {
      "cell_type": "code",
      "metadata": {
        "id": "-gowCogkfNpl",
        "colab": {
          "base_uri": "https://localhost:8080/"
        },
        "outputId": "13d1a71f-c097-418e-900b-fdf3067bc311"
      },
      "source": [
        "import numpy as np\n",
        "\n",
        "data = np.array([1, 3, 5, 2, 3, 7, 8, 4, 10, 0, 6, 7, 3, 0, 3, 0, 5, 7, 10, 1, 4, 9, 3])\n",
        "\n",
        "\n",
        "def compute_mean(dataset):\n",
        "  \"\"\" Main function that calculates the average value across our data. \"\"\"\n",
        "  sum = 0\n",
        "  for number in data:\n",
        "    sum += number\n",
        "\n",
        "  return sum / data.size\n",
        "    \n",
        "\n",
        "\n",
        "compute_mean(data)\n",
        "# data.mean()"
      ],
      "execution_count": 1,
      "outputs": [
        {
          "output_type": "execute_result",
          "data": {
            "text/plain": [
              "4.391304347826087"
            ]
          },
          "metadata": {},
          "execution_count": 1
        }
      ]
    },
    {
      "cell_type": "markdown",
      "metadata": {
        "id": "om_13EMsfNpl"
      },
      "source": [
        "## Activity (Titanic):\n",
        "\n",
        "- What is the average age of male passengers that survived?\n",
        "\n",
        "Once you've found the average, talk with a neighbor who has also found the average, and compare how you each came about to your solution"
      ]
    },
    {
      "cell_type": "code",
      "metadata": {
        "id": "KCC2EfB4fNpm",
        "colab": {
          "base_uri": "https://localhost:8080/"
        },
        "outputId": "c8b0ef3d-9edc-4b95-ac67-a40bcbb28dde"
      },
      "source": [
        "import pandas as pd\n",
        "titanicdf = pd.read_csv(\"datasets/titanic.csv\")\n",
        "titanicdf.dropna(inplace=True)\n",
        "\n",
        "titanicdf[titanicdf[\"Sex\"] == \"male\"][\"Age\"].mean()"
      ],
      "execution_count": 2,
      "outputs": [
        {
          "output_type": "execute_result",
          "data": {
            "text/plain": [
              "38.45178947368421"
            ]
          },
          "metadata": {},
          "execution_count": 2
        }
      ]
    },
    {
      "cell_type": "code",
      "metadata": {
        "colab": {
          "base_uri": "https://localhost:8080/"
        },
        "id": "IsOv6v1WHCDo",
        "outputId": "5e7fe07e-1190-4f44-f67b-9efee6294752"
      },
      "source": [
        "titanicdf[(titanicdf[\"Survived\"] == 1) & (titanicdf[\"Age\"] > 20)][\"Fare\"].mean()"
      ],
      "execution_count": 3,
      "outputs": [
        {
          "output_type": "execute_result",
          "data": {
            "text/plain": [
              "85.34500299999998"
            ]
          },
          "metadata": {},
          "execution_count": 3
        }
      ]
    },
    {
      "cell_type": "markdown",
      "metadata": {
        "id": "ltWI70FhfNpm"
      },
      "source": [
        "### The median is the \"middle value\" or midpoint across our data.\n",
        "\n",
        "Determining the median is as simple as it sounds: _find the data value lying in the exact middle of our dataset_.\n",
        "\n",
        "One critical exception occurs when our data has an even number of values and thus has **two values** at its center: _in these cases, find the **mean** value of the two medians to obtain the true median across our data_. \n",
        "\n",
        "**Remember:** the median can only be calculated across _sorted data_!\n",
        "\n",
        "If data is distributed in a non-normal manner, then we can learn a great deal from interpreting what the exact median value of our dataset is. "
      ]
    },
    {
      "cell_type": "markdown",
      "metadata": {
        "id": "uJQ-3M4TfNpm"
      },
      "source": [
        "### Activity: _Write a function to compute the median from an arbitrary dataset._\n",
        "\n",
        "Once you write the function, compare with a neighbor's implementation"
      ]
    },
    {
      "cell_type": "code",
      "metadata": {
        "id": "0VtsNhFqfNpm",
        "colab": {
          "base_uri": "https://localhost:8080/"
        },
        "outputId": "d94a1c91-552e-47bd-bc4e-16513019ddb0"
      },
      "source": [
        "data = np.array([1, 3, 5, 2, 3, 7, 8, 4, 10, 0, 6, 7, 3, 0, 3, 0, 5, 7, 10, 1, 4, 9, 3])\n",
        "\n",
        "# TODO: Complete this function by having the function return the exact true median value of our dataset.\n",
        "# HINT: Consider using DataFrame slicing to help with identifying the correct median value(s).\n",
        "def compute_median(dataset):\n",
        "    \"\"\" Main function that determines the median value across our data. \"\"\"\n",
        "    count = len(dataset)\n",
        "    middle = count // 2\n",
        "    dataset = np.sort(dataset)\n",
        "\n",
        "    if count < 1:\n",
        "      return 0\n",
        "    if count % 2 == 1:\n",
        "      return dataset[middle]\n",
        "    else:\n",
        "      return (dataset[middle - 1] + dataset[middle]) / 2\n",
        "    \n",
        "compute_median(data)\n",
        "np.median(data)"
      ],
      "execution_count": 4,
      "outputs": [
        {
          "output_type": "execute_result",
          "data": {
            "text/plain": [
              "4.0"
            ]
          },
          "metadata": {},
          "execution_count": 4
        }
      ]
    },
    {
      "cell_type": "markdown",
      "metadata": {
        "id": "WCiAk4BqfNpn"
      },
      "source": [
        "### The mode is the most commonly occurring value or feature across our data.\n",
        "\n",
        "Determining the mode is relatively simple: _find the value that occurs most frequently across our data_.\n",
        "\n",
        "Remember that if all values across our data are unique and only occur once, then our data **has no mode**!\n",
        "\n",
        "The mode is also an interesting measure of _central tendency_ in that it can be applied towards categorical (non-numerical) data; one can find frequently occurring categories without running any calculations. "
      ]
    },
    {
      "cell_type": "markdown",
      "metadata": {
        "id": "MHJFRCx6fNpn"
      },
      "source": [
        "### Activity: _Write a function to compute the mode from an arbitrary dataset._\n",
        "\n",
        "Once you write the function, compare with a neighbor's implementation"
      ]
    },
    {
      "cell_type": "code",
      "metadata": {
        "id": "z3K4yxAZfNpn"
      },
      "source": [
        "# NOTE: Tricker than it looks!\n",
        "data = np.array([1, 3, 5, 2, 3, 7, 8, 4, 10, 0, 6, 7, 3, 0, 3, 0, 5, 7, 10, 1, 4, 9, 3])\n",
        "\n",
        "# TODO: Complete this function by having the function return the relative mode across our dataset.\n",
        "# HINT: Remember histograms and tokenization from CS 1.2? How many they help you here? \n",
        "def compute_mode(dataset):\n",
        "    \"\"\" Main function that determines the mode value across our data. \"\"\"\n",
        "    return\n",
        "\n",
        "compute_mode(data)"
      ],
      "execution_count": 5,
      "outputs": []
    },
    {
      "cell_type": "markdown",
      "metadata": {
        "id": "kXI1BWGlfNpn"
      },
      "source": [
        "There we have it!\n",
        "\n",
        "Three measures of central tendency that are critically important to understanding the distribution of our data. \n",
        "\n",
        "In future classes on distributions and introductory inferential statistics, we'll talk more about exactly **why** these measures are so important. "
      ]
    },
    {
      "cell_type": "markdown",
      "metadata": {
        "id": "vR8I6ORCfNpo"
      },
      "source": [
        "## Measures of Spread and Variance\n",
        "\n",
        "Like our friends in the central tendency community, measures of spread and variance do their best to describe patterns across our data as a whole.\n",
        "\n",
        "However, unlike measures of central tendency, which focus on the distribution of our data towards an arithmetic centroid, measures of spread and variance talk about the shape and layout of our data all across the board!\n",
        "\n",
        "In this course, there are **two key measures of spread and variance** to help describe the shape of our data:\n",
        "- **Range**\n",
        "- **Variance**, **Standard Deviation**\n"
      ]
    },
    {
      "cell_type": "markdown",
      "metadata": {
        "id": "u5jMzhUXfNpo"
      },
      "source": [
        "## What is Range?\n",
        "\n",
        "**Range** is the difference between the highest and lowest values in a data set. It is one of the simplest measures of **spread** (the extent to which a distribution is stretched or squeezed). We'll use variance/standard deviation to help give more information around all of this!"
      ]
    },
    {
      "cell_type": "markdown",
      "metadata": {
        "id": "4FMQ_z_1fNpo"
      },
      "source": [
        "## What is standard deviation or variance?\n",
        "\n",
        "Let's learn it by example:\n",
        "    \n",
        "- We measured the number of rainy days during Fall in three different cities in the last 5 years:"
      ]
    },
    {
      "cell_type": "code",
      "metadata": {
        "id": "BEWWSyVSfNpp",
        "colab": {
          "base_uri": "https://localhost:8080/",
          "height": 514
        },
        "outputId": "9420a16d-65a2-48b8-de3b-403476693f1e"
      },
      "source": [
        "import pandas as pd\n",
        "import seaborn as sns\n",
        "import matplotlib.pyplot as plt\n",
        "import numpy as np\n",
        "\n",
        "df = pd.DataFrame({'Rainy':[29,28,32,35,36,12,18,30,45,55, 32,32,32,32,32], 'City':['City_A']*5 + ['City_B']*5 + ['City_C']*5})\n",
        "df"
      ],
      "execution_count": 6,
      "outputs": [
        {
          "output_type": "execute_result",
          "data": {
            "text/plain": [
              "    Rainy    City\n",
              "0      29  City_A\n",
              "1      28  City_A\n",
              "2      32  City_A\n",
              "3      35  City_A\n",
              "4      36  City_A\n",
              "5      12  City_B\n",
              "6      18  City_B\n",
              "7      30  City_B\n",
              "8      45  City_B\n",
              "9      55  City_B\n",
              "10     32  City_C\n",
              "11     32  City_C\n",
              "12     32  City_C\n",
              "13     32  City_C\n",
              "14     32  City_C"
            ],
            "text/html": "<div>\n<style scoped>\n    .dataframe tbody tr th:only-of-type {\n        vertical-align: middle;\n    }\n\n    .dataframe tbody tr th {\n        vertical-align: top;\n    }\n\n    .dataframe thead th {\n        text-align: right;\n    }\n</style>\n<table border=\"1\" class=\"dataframe\">\n  <thead>\n    <tr style=\"text-align: right;\">\n      <th></th>\n      <th>Rainy</th>\n      <th>City</th>\n    </tr>\n  </thead>\n  <tbody>\n    <tr>\n      <th>0</th>\n      <td>29</td>\n      <td>City_A</td>\n    </tr>\n    <tr>\n      <th>1</th>\n      <td>28</td>\n      <td>City_A</td>\n    </tr>\n    <tr>\n      <th>2</th>\n      <td>32</td>\n      <td>City_A</td>\n    </tr>\n    <tr>\n      <th>3</th>\n      <td>35</td>\n      <td>City_A</td>\n    </tr>\n    <tr>\n      <th>4</th>\n      <td>36</td>\n      <td>City_A</td>\n    </tr>\n    <tr>\n      <th>5</th>\n      <td>12</td>\n      <td>City_B</td>\n    </tr>\n    <tr>\n      <th>6</th>\n      <td>18</td>\n      <td>City_B</td>\n    </tr>\n    <tr>\n      <th>7</th>\n      <td>30</td>\n      <td>City_B</td>\n    </tr>\n    <tr>\n      <th>8</th>\n      <td>45</td>\n      <td>City_B</td>\n    </tr>\n    <tr>\n      <th>9</th>\n      <td>55</td>\n      <td>City_B</td>\n    </tr>\n    <tr>\n      <th>10</th>\n      <td>32</td>\n      <td>City_C</td>\n    </tr>\n    <tr>\n      <th>11</th>\n      <td>32</td>\n      <td>City_C</td>\n    </tr>\n    <tr>\n      <th>12</th>\n      <td>32</td>\n      <td>City_C</td>\n    </tr>\n    <tr>\n      <th>13</th>\n      <td>32</td>\n      <td>City_C</td>\n    </tr>\n    <tr>\n      <th>14</th>\n      <td>32</td>\n      <td>City_C</td>\n    </tr>\n  </tbody>\n</table>\n</div>"
          },
          "metadata": {},
          "execution_count": 6
        }
      ]
    },
    {
      "cell_type": "markdown",
      "metadata": {
        "id": "juk8JGFefNpp"
      },
      "source": [
        "## What is the mean of rainy days for City A, B and C?"
      ]
    },
    {
      "cell_type": "code",
      "metadata": {
        "id": "knWEh5oPfNpp",
        "colab": {
          "base_uri": "https://localhost:8080/"
        },
        "outputId": "88e85d16-3b88-4ec2-fcee-9760dcb56e31"
      },
      "source": [
        "print(np.mean(df[df['City'] == 'City_A']['Rainy']))\n",
        "\n",
        "print(np.mean(df[df['City'] == 'City_B']['Rainy']))\n",
        "\n",
        "print(np.mean(df[df['City'] == 'City_C']['Rainy']))"
      ],
      "execution_count": 7,
      "outputs": [
        {
          "output_type": "stream",
          "name": "stdout",
          "text": [
            "32.0\n32.0\n32.0\n"
          ]
        }
      ]
    },
    {
      "cell_type": "markdown",
      "metadata": {
        "id": "yQUb-MB2fNpp"
      },
      "source": [
        "## Which city has more variation?\n",
        "\n",
        "**Standard deviation (std), which is the square root of variance,** can capture the variations in different arrays\n",
        "\n",
        "[Docs on the std function](https://docs.scipy.org/doc/numpy/reference/generated/numpy.std.html) from Numpy"
      ]
    },
    {
      "cell_type": "code",
      "metadata": {
        "id": "fOfNiwpffNpq",
        "colab": {
          "base_uri": "https://localhost:8080/"
        },
        "outputId": "22152bc6-e868-4aa6-e655-281af4f04e4b"
      },
      "source": [
        "print(np.std(df[df['City'] == 'City_A']['Rainy']))\n",
        "\n",
        "print(np.std(df[df['City'] == 'City_B']['Rainy']))\n",
        "\n",
        "print(np.std(df[df['City'] == 'City_C']['Rainy']))"
      ],
      "execution_count": 8,
      "outputs": [
        {
          "output_type": "stream",
          "name": "stdout",
          "text": [
            "3.1622776601683795\n16.112107248898266\n0.0\n"
          ]
        }
      ]
    },
    {
      "cell_type": "markdown",
      "metadata": {
        "id": "P16shLxDfNpq"
      },
      "source": [
        "## Let's plot the variations in the data"
      ]
    },
    {
      "cell_type": "code",
      "metadata": {
        "id": "rhrw0s7PfNpq",
        "colab": {
          "base_uri": "https://localhost:8080/",
          "height": 280
        },
        "outputId": "75445772-0a90-4333-8431-04af2ef1ea9e"
      },
      "source": [
        "sns.lineplot(y='Rainy', x='City', data=df)\n",
        "plt.show()"
      ],
      "execution_count": 9,
      "outputs": [
        {
          "output_type": "display_data",
          "data": {
            "text/plain": "<Figure size 432x288 with 1 Axes>",
            "image/svg+xml": "<?xml version=\"1.0\" encoding=\"utf-8\" standalone=\"no\"?>\n<!DOCTYPE svg PUBLIC \"-//W3C//DTD SVG 1.1//EN\"\n  \"http://www.w3.org/Graphics/SVG/1.1/DTD/svg11.dtd\">\n<!-- Created with matplotlib (https://matplotlib.org/) -->\n<svg height=\"262.474375pt\" version=\"1.1\" viewBox=\"0 0 383.176349 262.474375\" width=\"383.176349pt\" xmlns=\"http://www.w3.org/2000/svg\" xmlns:xlink=\"http://www.w3.org/1999/xlink\">\n <metadata>\n  <rdf:RDF xmlns:cc=\"http://creativecommons.org/ns#\" xmlns:dc=\"http://purl.org/dc/elements/1.1/\" xmlns:rdf=\"http://www.w3.org/1999/02/22-rdf-syntax-ns#\">\n   <cc:Work>\n    <dc:type rdf:resource=\"http://purl.org/dc/dcmitype/StillImage\"/>\n    <dc:date>2021-02-25T14:42:42.259123</dc:date>\n    <dc:format>image/svg+xml</dc:format>\n    <dc:creator>\n     <cc:Agent>\n      <dc:title>Matplotlib v3.3.4, https://matplotlib.org/</dc:title>\n     </cc:Agent>\n    </dc:creator>\n   </cc:Work>\n  </rdf:RDF>\n </metadata>\n <defs>\n  <style type=\"text/css\">*{stroke-linecap:butt;stroke-linejoin:round;}</style>\n </defs>\n <g id=\"figure_1\">\n  <g id=\"patch_1\">\n   <path d=\"M 0 262.474375 \nL 383.176349 262.474375 \nL 383.176349 0 \nL 0 0 \nz\n\" style=\"fill:none;\"/>\n  </g>\n  <g id=\"axes_1\">\n   <g id=\"patch_2\">\n    <path d=\"M 40.603125 224.64 \nL 375.403125 224.64 \nL 375.403125 7.2 \nL 40.603125 7.2 \nz\n\" style=\"fill:#ffffff;\"/>\n   </g>\n   <g id=\"PolyCollection_1\">\n    <defs>\n     <path d=\"M 55.821307 -163.147341 \nL 55.821307 -124.189942 \nL 208.003125 -47.718011 \nL 360.184943 -144.390075 \nL 360.184943 -144.390075 \nL 360.184943 -144.390075 \nL 208.003125 -245.390739 \nL 55.821307 -163.147341 \nz\n\" id=\"m898776b417\" style=\"stroke:#1f77b4;stroke-opacity:0.2;\"/>\n    </defs>\n    <g clip-path=\"url(#p303373a5f4)\">\n     <use style=\"fill:#1f77b4;fill-opacity:0.2;stroke:#1f77b4;stroke-opacity:0.2;\" x=\"0\" xlink:href=\"#m898776b417\" y=\"262.474375\"/>\n    </g>\n   </g>\n   <g id=\"matplotlib.axis_1\">\n    <g id=\"xtick_1\">\n     <g id=\"line2d_1\">\n      <defs>\n       <path d=\"M 0 0 \nL 0 3.5 \n\" id=\"me3bc1a0073\" style=\"stroke:#000000;stroke-width:0.8;\"/>\n      </defs>\n      <g>\n       <use style=\"stroke:#000000;stroke-width:0.8;\" x=\"55.821307\" xlink:href=\"#me3bc1a0073\" y=\"224.64\"/>\n      </g>\n     </g>\n     <g id=\"text_1\">\n      <!-- City_A -->\n      <g transform=\"translate(40.100994 239.238438)scale(0.1 -0.1)\">\n       <defs>\n        <path d=\"M 64.40625 67.28125 \nL 64.40625 56.890625 \nQ 59.421875 61.53125 53.78125 63.8125 \nQ 48.140625 66.109375 41.796875 66.109375 \nQ 29.296875 66.109375 22.65625 58.46875 \nQ 16.015625 50.828125 16.015625 36.375 \nQ 16.015625 21.96875 22.65625 14.328125 \nQ 29.296875 6.6875 41.796875 6.6875 \nQ 48.140625 6.6875 53.78125 8.984375 \nQ 59.421875 11.28125 64.40625 15.921875 \nL 64.40625 5.609375 \nQ 59.234375 2.09375 53.4375 0.328125 \nQ 47.65625 -1.421875 41.21875 -1.421875 \nQ 24.65625 -1.421875 15.125 8.703125 \nQ 5.609375 18.84375 5.609375 36.375 \nQ 5.609375 53.953125 15.125 64.078125 \nQ 24.65625 74.21875 41.21875 74.21875 \nQ 47.75 74.21875 53.53125 72.484375 \nQ 59.328125 70.75 64.40625 67.28125 \nz\n\" id=\"DejaVuSans-67\"/>\n        <path d=\"M 9.421875 54.6875 \nL 18.40625 54.6875 \nL 18.40625 0 \nL 9.421875 0 \nz\nM 9.421875 75.984375 \nL 18.40625 75.984375 \nL 18.40625 64.59375 \nL 9.421875 64.59375 \nz\n\" id=\"DejaVuSans-105\"/>\n        <path d=\"M 18.3125 70.21875 \nL 18.3125 54.6875 \nL 36.8125 54.6875 \nL 36.8125 47.703125 \nL 18.3125 47.703125 \nL 18.3125 18.015625 \nQ 18.3125 11.328125 20.140625 9.421875 \nQ 21.96875 7.515625 27.59375 7.515625 \nL 36.8125 7.515625 \nL 36.8125 0 \nL 27.59375 0 \nQ 17.1875 0 13.234375 3.875 \nQ 9.28125 7.765625 9.28125 18.015625 \nL 9.28125 47.703125 \nL 2.6875 47.703125 \nL 2.6875 54.6875 \nL 9.28125 54.6875 \nL 9.28125 70.21875 \nz\n\" id=\"DejaVuSans-116\"/>\n        <path d=\"M 32.171875 -5.078125 \nQ 28.375 -14.84375 24.75 -17.8125 \nQ 21.140625 -20.796875 15.09375 -20.796875 \nL 7.90625 -20.796875 \nL 7.90625 -13.28125 \nL 13.1875 -13.28125 \nQ 16.890625 -13.28125 18.9375 -11.515625 \nQ 21 -9.765625 23.484375 -3.21875 \nL 25.09375 0.875 \nL 2.984375 54.6875 \nL 12.5 54.6875 \nL 29.59375 11.921875 \nL 46.6875 54.6875 \nL 56.203125 54.6875 \nz\n\" id=\"DejaVuSans-121\"/>\n        <path d=\"M 50.984375 -16.609375 \nL 50.984375 -23.578125 \nL -0.984375 -23.578125 \nL -0.984375 -16.609375 \nz\n\" id=\"DejaVuSans-95\"/>\n        <path d=\"M 34.1875 63.1875 \nL 20.796875 26.90625 \nL 47.609375 26.90625 \nz\nM 28.609375 72.90625 \nL 39.796875 72.90625 \nL 67.578125 0 \nL 57.328125 0 \nL 50.6875 18.703125 \nL 17.828125 18.703125 \nL 11.1875 0 \nL 0.78125 0 \nz\n\" id=\"DejaVuSans-65\"/>\n       </defs>\n       <use xlink:href=\"#DejaVuSans-67\"/>\n       <use x=\"69.824219\" xlink:href=\"#DejaVuSans-105\"/>\n       <use x=\"97.607422\" xlink:href=\"#DejaVuSans-116\"/>\n       <use x=\"136.816406\" xlink:href=\"#DejaVuSans-121\"/>\n       <use x=\"195.996094\" xlink:href=\"#DejaVuSans-95\"/>\n       <use x=\"245.996094\" xlink:href=\"#DejaVuSans-65\"/>\n      </g>\n     </g>\n    </g>\n    <g id=\"xtick_2\">\n     <g id=\"line2d_2\">\n      <g>\n       <use style=\"stroke:#000000;stroke-width:0.8;\" x=\"208.003125\" xlink:href=\"#me3bc1a0073\" y=\"224.64\"/>\n      </g>\n     </g>\n     <g id=\"text_2\">\n      <!-- City_B -->\n      <g transform=\"translate(192.272656 239.238438)scale(0.1 -0.1)\">\n       <defs>\n        <path d=\"M 19.671875 34.8125 \nL 19.671875 8.109375 \nL 35.5 8.109375 \nQ 43.453125 8.109375 47.28125 11.40625 \nQ 51.125 14.703125 51.125 21.484375 \nQ 51.125 28.328125 47.28125 31.5625 \nQ 43.453125 34.8125 35.5 34.8125 \nz\nM 19.671875 64.796875 \nL 19.671875 42.828125 \nL 34.28125 42.828125 \nQ 41.5 42.828125 45.03125 45.53125 \nQ 48.578125 48.25 48.578125 53.8125 \nQ 48.578125 59.328125 45.03125 62.0625 \nQ 41.5 64.796875 34.28125 64.796875 \nz\nM 9.8125 72.90625 \nL 35.015625 72.90625 \nQ 46.296875 72.90625 52.390625 68.21875 \nQ 58.5 63.53125 58.5 54.890625 \nQ 58.5 48.1875 55.375 44.234375 \nQ 52.25 40.28125 46.1875 39.3125 \nQ 53.46875 37.75 57.5 32.78125 \nQ 61.53125 27.828125 61.53125 20.40625 \nQ 61.53125 10.640625 54.890625 5.3125 \nQ 48.25 0 35.984375 0 \nL 9.8125 0 \nz\n\" id=\"DejaVuSans-66\"/>\n       </defs>\n       <use xlink:href=\"#DejaVuSans-67\"/>\n       <use x=\"69.824219\" xlink:href=\"#DejaVuSans-105\"/>\n       <use x=\"97.607422\" xlink:href=\"#DejaVuSans-116\"/>\n       <use x=\"136.816406\" xlink:href=\"#DejaVuSans-121\"/>\n       <use x=\"195.996094\" xlink:href=\"#DejaVuSans-95\"/>\n       <use x=\"245.996094\" xlink:href=\"#DejaVuSans-66\"/>\n      </g>\n     </g>\n    </g>\n    <g id=\"xtick_3\">\n     <g id=\"line2d_3\">\n      <g>\n       <use style=\"stroke:#000000;stroke-width:0.8;\" x=\"360.184943\" xlink:href=\"#me3bc1a0073\" y=\"224.64\"/>\n      </g>\n     </g>\n     <g id=\"text_3\">\n      <!-- City_C -->\n      <g transform=\"translate(344.393537 239.238438)scale(0.1 -0.1)\">\n       <use xlink:href=\"#DejaVuSans-67\"/>\n       <use x=\"69.824219\" xlink:href=\"#DejaVuSans-105\"/>\n       <use x=\"97.607422\" xlink:href=\"#DejaVuSans-116\"/>\n       <use x=\"136.816406\" xlink:href=\"#DejaVuSans-121\"/>\n       <use x=\"195.996094\" xlink:href=\"#DejaVuSans-95\"/>\n       <use x=\"245.996094\" xlink:href=\"#DejaVuSans-67\"/>\n      </g>\n     </g>\n    </g>\n    <g id=\"text_4\">\n     <!-- City -->\n     <g transform=\"translate(198.203125 253.194688)scale(0.1 -0.1)\">\n      <use xlink:href=\"#DejaVuSans-67\"/>\n      <use x=\"69.824219\" xlink:href=\"#DejaVuSans-105\"/>\n      <use x=\"97.607422\" xlink:href=\"#DejaVuSans-116\"/>\n      <use x=\"136.816406\" xlink:href=\"#DejaVuSans-121\"/>\n     </g>\n    </g>\n   </g>\n   <g id=\"matplotlib.axis_2\">\n    <g id=\"ytick_1\">\n     <g id=\"line2d_4\">\n      <defs>\n       <path d=\"M 0 0 \nL -3.5 0 \n\" id=\"mcb71a0f7ec\" style=\"stroke:#000000;stroke-width:0.8;\"/>\n      </defs>\n      <g>\n       <use style=\"stroke:#000000;stroke-width:0.8;\" x=\"40.603125\" xlink:href=\"#mcb71a0f7ec\" y=\"204.656297\"/>\n      </g>\n     </g>\n     <g id=\"text_5\">\n      <!-- 20 -->\n      <g transform=\"translate(20.878125 208.455516)scale(0.1 -0.1)\">\n       <defs>\n        <path d=\"M 19.1875 8.296875 \nL 53.609375 8.296875 \nL 53.609375 0 \nL 7.328125 0 \nL 7.328125 8.296875 \nQ 12.9375 14.109375 22.625 23.890625 \nQ 32.328125 33.6875 34.8125 36.53125 \nQ 39.546875 41.84375 41.421875 45.53125 \nQ 43.3125 49.21875 43.3125 52.78125 \nQ 43.3125 58.59375 39.234375 62.25 \nQ 35.15625 65.921875 28.609375 65.921875 \nQ 23.96875 65.921875 18.8125 64.3125 \nQ 13.671875 62.703125 7.8125 59.421875 \nL 7.8125 69.390625 \nQ 13.765625 71.78125 18.9375 73 \nQ 24.125 74.21875 28.421875 74.21875 \nQ 39.75 74.21875 46.484375 68.546875 \nQ 53.21875 62.890625 53.21875 53.421875 \nQ 53.21875 48.921875 51.53125 44.890625 \nQ 49.859375 40.875 45.40625 35.40625 \nQ 44.1875 33.984375 37.640625 27.21875 \nQ 31.109375 20.453125 19.1875 8.296875 \nz\n\" id=\"DejaVuSans-50\"/>\n        <path d=\"M 31.78125 66.40625 \nQ 24.171875 66.40625 20.328125 58.90625 \nQ 16.5 51.421875 16.5 36.375 \nQ 16.5 21.390625 20.328125 13.890625 \nQ 24.171875 6.390625 31.78125 6.390625 \nQ 39.453125 6.390625 43.28125 13.890625 \nQ 47.125 21.390625 47.125 36.375 \nQ 47.125 51.421875 43.28125 58.90625 \nQ 39.453125 66.40625 31.78125 66.40625 \nz\nM 31.78125 74.21875 \nQ 44.046875 74.21875 50.515625 64.515625 \nQ 56.984375 54.828125 56.984375 36.375 \nQ 56.984375 17.96875 50.515625 8.265625 \nQ 44.046875 -1.421875 31.78125 -1.421875 \nQ 19.53125 -1.421875 13.0625 8.265625 \nQ 6.59375 17.96875 6.59375 36.375 \nQ 6.59375 54.828125 13.0625 64.515625 \nQ 19.53125 74.21875 31.78125 74.21875 \nz\n\" id=\"DejaVuSans-48\"/>\n       </defs>\n       <use xlink:href=\"#DejaVuSans-50\"/>\n       <use x=\"63.623047\" xlink:href=\"#DejaVuSans-48\"/>\n      </g>\n     </g>\n    </g>\n    <g id=\"ytick_2\">\n     <g id=\"line2d_5\">\n      <g>\n       <use style=\"stroke:#000000;stroke-width:0.8;\" x=\"40.603125\" xlink:href=\"#mcb71a0f7ec\" y=\"168.584632\"/>\n      </g>\n     </g>\n     <g id=\"text_6\">\n      <!-- 25 -->\n      <g transform=\"translate(20.878125 172.38385)scale(0.1 -0.1)\">\n       <defs>\n        <path d=\"M 10.796875 72.90625 \nL 49.515625 72.90625 \nL 49.515625 64.59375 \nL 19.828125 64.59375 \nL 19.828125 46.734375 \nQ 21.96875 47.46875 24.109375 47.828125 \nQ 26.265625 48.1875 28.421875 48.1875 \nQ 40.625 48.1875 47.75 41.5 \nQ 54.890625 34.8125 54.890625 23.390625 \nQ 54.890625 11.625 47.5625 5.09375 \nQ 40.234375 -1.421875 26.90625 -1.421875 \nQ 22.3125 -1.421875 17.546875 -0.640625 \nQ 12.796875 0.140625 7.71875 1.703125 \nL 7.71875 11.625 \nQ 12.109375 9.234375 16.796875 8.0625 \nQ 21.484375 6.890625 26.703125 6.890625 \nQ 35.15625 6.890625 40.078125 11.328125 \nQ 45.015625 15.765625 45.015625 23.390625 \nQ 45.015625 31 40.078125 35.4375 \nQ 35.15625 39.890625 26.703125 39.890625 \nQ 22.75 39.890625 18.8125 39.015625 \nQ 14.890625 38.140625 10.796875 36.28125 \nz\n\" id=\"DejaVuSans-53\"/>\n       </defs>\n       <use xlink:href=\"#DejaVuSans-50\"/>\n       <use x=\"63.623047\" xlink:href=\"#DejaVuSans-53\"/>\n      </g>\n     </g>\n    </g>\n    <g id=\"ytick_3\">\n     <g id=\"line2d_6\">\n      <g>\n       <use style=\"stroke:#000000;stroke-width:0.8;\" x=\"40.603125\" xlink:href=\"#mcb71a0f7ec\" y=\"132.512966\"/>\n      </g>\n     </g>\n     <g id=\"text_7\">\n      <!-- 30 -->\n      <g transform=\"translate(20.878125 136.312185)scale(0.1 -0.1)\">\n       <defs>\n        <path d=\"M 40.578125 39.3125 \nQ 47.65625 37.796875 51.625 33 \nQ 55.609375 28.21875 55.609375 21.1875 \nQ 55.609375 10.40625 48.1875 4.484375 \nQ 40.765625 -1.421875 27.09375 -1.421875 \nQ 22.515625 -1.421875 17.65625 -0.515625 \nQ 12.796875 0.390625 7.625 2.203125 \nL 7.625 11.71875 \nQ 11.71875 9.328125 16.59375 8.109375 \nQ 21.484375 6.890625 26.8125 6.890625 \nQ 36.078125 6.890625 40.9375 10.546875 \nQ 45.796875 14.203125 45.796875 21.1875 \nQ 45.796875 27.640625 41.28125 31.265625 \nQ 36.765625 34.90625 28.71875 34.90625 \nL 20.21875 34.90625 \nL 20.21875 43.015625 \nL 29.109375 43.015625 \nQ 36.375 43.015625 40.234375 45.921875 \nQ 44.09375 48.828125 44.09375 54.296875 \nQ 44.09375 59.90625 40.109375 62.90625 \nQ 36.140625 65.921875 28.71875 65.921875 \nQ 24.65625 65.921875 20.015625 65.03125 \nQ 15.375 64.15625 9.8125 62.3125 \nL 9.8125 71.09375 \nQ 15.4375 72.65625 20.34375 73.4375 \nQ 25.25 74.21875 29.59375 74.21875 \nQ 40.828125 74.21875 47.359375 69.109375 \nQ 53.90625 64.015625 53.90625 55.328125 \nQ 53.90625 49.265625 50.4375 45.09375 \nQ 46.96875 40.921875 40.578125 39.3125 \nz\n\" id=\"DejaVuSans-51\"/>\n       </defs>\n       <use xlink:href=\"#DejaVuSans-51\"/>\n       <use x=\"63.623047\" xlink:href=\"#DejaVuSans-48\"/>\n      </g>\n     </g>\n    </g>\n    <g id=\"ytick_4\">\n     <g id=\"line2d_7\">\n      <g>\n       <use style=\"stroke:#000000;stroke-width:0.8;\" x=\"40.603125\" xlink:href=\"#mcb71a0f7ec\" y=\"96.441301\"/>\n      </g>\n     </g>\n     <g id=\"text_8\">\n      <!-- 35 -->\n      <g transform=\"translate(20.878125 100.240519)scale(0.1 -0.1)\">\n       <use xlink:href=\"#DejaVuSans-51\"/>\n       <use x=\"63.623047\" xlink:href=\"#DejaVuSans-53\"/>\n      </g>\n     </g>\n    </g>\n    <g id=\"ytick_5\">\n     <g id=\"line2d_8\">\n      <g>\n       <use style=\"stroke:#000000;stroke-width:0.8;\" x=\"40.603125\" xlink:href=\"#mcb71a0f7ec\" y=\"60.369635\"/>\n      </g>\n     </g>\n     <g id=\"text_9\">\n      <!-- 40 -->\n      <g transform=\"translate(20.878125 64.168854)scale(0.1 -0.1)\">\n       <defs>\n        <path d=\"M 37.796875 64.3125 \nL 12.890625 25.390625 \nL 37.796875 25.390625 \nz\nM 35.203125 72.90625 \nL 47.609375 72.90625 \nL 47.609375 25.390625 \nL 58.015625 25.390625 \nL 58.015625 17.1875 \nL 47.609375 17.1875 \nL 47.609375 0 \nL 37.796875 0 \nL 37.796875 17.1875 \nL 4.890625 17.1875 \nL 4.890625 26.703125 \nz\n\" id=\"DejaVuSans-52\"/>\n       </defs>\n       <use xlink:href=\"#DejaVuSans-52\"/>\n       <use x=\"63.623047\" xlink:href=\"#DejaVuSans-48\"/>\n      </g>\n     </g>\n    </g>\n    <g id=\"ytick_6\">\n     <g id=\"line2d_9\">\n      <g>\n       <use style=\"stroke:#000000;stroke-width:0.8;\" x=\"40.603125\" xlink:href=\"#mcb71a0f7ec\" y=\"24.297969\"/>\n      </g>\n     </g>\n     <g id=\"text_10\">\n      <!-- 45 -->\n      <g transform=\"translate(20.878125 28.097188)scale(0.1 -0.1)\">\n       <use xlink:href=\"#DejaVuSans-52\"/>\n       <use x=\"63.623047\" xlink:href=\"#DejaVuSans-53\"/>\n      </g>\n     </g>\n    </g>\n    <g id=\"text_11\">\n     <!-- Rainy -->\n     <g transform=\"translate(14.798438 129.862969)rotate(-90)scale(0.1 -0.1)\">\n      <defs>\n       <path d=\"M 44.390625 34.1875 \nQ 47.5625 33.109375 50.5625 29.59375 \nQ 53.5625 26.078125 56.59375 19.921875 \nL 66.609375 0 \nL 56 0 \nL 46.6875 18.703125 \nQ 43.0625 26.03125 39.671875 28.421875 \nQ 36.28125 30.8125 30.421875 30.8125 \nL 19.671875 30.8125 \nL 19.671875 0 \nL 9.8125 0 \nL 9.8125 72.90625 \nL 32.078125 72.90625 \nQ 44.578125 72.90625 50.734375 67.671875 \nQ 56.890625 62.453125 56.890625 51.90625 \nQ 56.890625 45.015625 53.6875 40.46875 \nQ 50.484375 35.9375 44.390625 34.1875 \nz\nM 19.671875 64.796875 \nL 19.671875 38.921875 \nL 32.078125 38.921875 \nQ 39.203125 38.921875 42.84375 42.21875 \nQ 46.484375 45.515625 46.484375 51.90625 \nQ 46.484375 58.296875 42.84375 61.546875 \nQ 39.203125 64.796875 32.078125 64.796875 \nz\n\" id=\"DejaVuSans-82\"/>\n       <path d=\"M 34.28125 27.484375 \nQ 23.390625 27.484375 19.1875 25 \nQ 14.984375 22.515625 14.984375 16.5 \nQ 14.984375 11.71875 18.140625 8.90625 \nQ 21.296875 6.109375 26.703125 6.109375 \nQ 34.1875 6.109375 38.703125 11.40625 \nQ 43.21875 16.703125 43.21875 25.484375 \nL 43.21875 27.484375 \nz\nM 52.203125 31.203125 \nL 52.203125 0 \nL 43.21875 0 \nL 43.21875 8.296875 \nQ 40.140625 3.328125 35.546875 0.953125 \nQ 30.953125 -1.421875 24.3125 -1.421875 \nQ 15.921875 -1.421875 10.953125 3.296875 \nQ 6 8.015625 6 15.921875 \nQ 6 25.140625 12.171875 29.828125 \nQ 18.359375 34.515625 30.609375 34.515625 \nL 43.21875 34.515625 \nL 43.21875 35.40625 \nQ 43.21875 41.609375 39.140625 45 \nQ 35.0625 48.390625 27.6875 48.390625 \nQ 23 48.390625 18.546875 47.265625 \nQ 14.109375 46.140625 10.015625 43.890625 \nL 10.015625 52.203125 \nQ 14.9375 54.109375 19.578125 55.046875 \nQ 24.21875 56 28.609375 56 \nQ 40.484375 56 46.34375 49.84375 \nQ 52.203125 43.703125 52.203125 31.203125 \nz\n\" id=\"DejaVuSans-97\"/>\n       <path d=\"M 54.890625 33.015625 \nL 54.890625 0 \nL 45.90625 0 \nL 45.90625 32.71875 \nQ 45.90625 40.484375 42.875 44.328125 \nQ 39.84375 48.1875 33.796875 48.1875 \nQ 26.515625 48.1875 22.3125 43.546875 \nQ 18.109375 38.921875 18.109375 30.90625 \nL 18.109375 0 \nL 9.078125 0 \nL 9.078125 54.6875 \nL 18.109375 54.6875 \nL 18.109375 46.1875 \nQ 21.34375 51.125 25.703125 53.5625 \nQ 30.078125 56 35.796875 56 \nQ 45.21875 56 50.046875 50.171875 \nQ 54.890625 44.34375 54.890625 33.015625 \nz\n\" id=\"DejaVuSans-110\"/>\n      </defs>\n      <use xlink:href=\"#DejaVuSans-82\"/>\n      <use x=\"67.232422\" xlink:href=\"#DejaVuSans-97\"/>\n      <use x=\"128.511719\" xlink:href=\"#DejaVuSans-105\"/>\n      <use x=\"156.294922\" xlink:href=\"#DejaVuSans-110\"/>\n      <use x=\"219.673828\" xlink:href=\"#DejaVuSans-121\"/>\n     </g>\n    </g>\n   </g>\n   <g id=\"line2d_10\">\n    <path clip-path=\"url(#p303373a5f4)\" d=\"M 55.821307 118.0843 \nL 208.003125 118.0843 \nL 360.184943 118.0843 \n\" style=\"fill:none;stroke:#1f77b4;stroke-linecap:square;stroke-width:1.5;\"/>\n   </g>\n   <g id=\"patch_3\">\n    <path d=\"M 40.603125 224.64 \nL 40.603125 7.2 \n\" style=\"fill:none;stroke:#000000;stroke-linecap:square;stroke-linejoin:miter;stroke-width:0.8;\"/>\n   </g>\n   <g id=\"patch_4\">\n    <path d=\"M 375.403125 224.64 \nL 375.403125 7.2 \n\" style=\"fill:none;stroke:#000000;stroke-linecap:square;stroke-linejoin:miter;stroke-width:0.8;\"/>\n   </g>\n   <g id=\"patch_5\">\n    <path d=\"M 40.603125 224.64 \nL 375.403125 224.64 \n\" style=\"fill:none;stroke:#000000;stroke-linecap:square;stroke-linejoin:miter;stroke-width:0.8;\"/>\n   </g>\n   <g id=\"patch_6\">\n    <path d=\"M 40.603125 7.2 \nL 375.403125 7.2 \n\" style=\"fill:none;stroke:#000000;stroke-linecap:square;stroke-linejoin:miter;stroke-width:0.8;\"/>\n   </g>\n  </g>\n </g>\n <defs>\n  <clipPath id=\"p303373a5f4\">\n   <rect height=\"217.44\" width=\"334.8\" x=\"40.603125\" y=\"7.2\"/>\n  </clipPath>\n </defs>\n</svg>\n",
            "image/png": "[encoded data removed]"
          },
          "metadata": {
            "needs_background": "light"
          }
        }
      ]
    },
    {
      "cell_type": "markdown",
      "metadata": {
        "id": "sClsnqXTfNpq"
      },
      "source": [
        "## Most (or majority) of the values (rainy days) in Cities A, B and C are between mean - std and mean + std"
      ]
    },
    {
      "cell_type": "code",
      "metadata": {
        "id": "PZTXe3zDfNpq",
        "colab": {
          "base_uri": "https://localhost:8080/"
        },
        "outputId": "fbfec40b-e739-44f0-ef96-cba80fa2e1ea"
      },
      "source": [
        "\n",
        "print([32 - np.std(df[df['City'] == 'City_A']['Rainy']), 32 + np.std(df[df['City'] == 'City_A']['Rainy'])])\n",
        "\n",
        "print([32 - np.std(df[df['City'] == 'City_B']['Rainy']), 32 + np.std(df[df['City'] == 'City_B']['Rainy'])])\n",
        "\n",
        "print([32 - np.std(df[df['City'] == 'City_C']['Rainy']), 32 + np.std(df[df['City'] == 'City_C']['Rainy'])])\n"
      ],
      "execution_count": 10,
      "outputs": [
        {
          "output_type": "stream",
          "name": "stdout",
          "text": [
            "[28.837722339831622, 35.16227766016838]\n[15.887892751101734, 48.11210724889827]\n[32.0, 32.0]\n"
          ]
        }
      ]
    },
    {
      "cell_type": "markdown",
      "metadata": {
        "id": "IdW_eWMJfNpr"
      },
      "source": [
        "# Percentile\n",
        "\n",
        "The value below which a percentage of data falls.\n",
        "\n",
        "## Activity - Compute 75% Percentile for Fare in Titanic\n",
        "We want to compute:\n",
        "\n",
        "- What fare value did 75% of all the fare values fall below\n",
        "\n",
        "How would we do this?\n",
        "\n",
        "**Hint:** Use Numpy's [percentile](https://docs.scipy.org/doc/numpy/reference/generated/numpy.percentile.html) function\n",
        "\n",
        "When you're done, compare implementations with a neighbor"
      ]
    },
    {
      "cell_type": "code",
      "metadata": {
        "id": "EpC3h5PPfNpr",
        "colab": {
          "base_uri": "https://localhost:8080/",
          "height": 409
        },
        "outputId": "82a2dc65-8607-4750-9e65-240b8108a07b"
      },
      "source": [
        "df = pd.read_csv(\"datasets/titanic.csv\")\n",
        "df\n",
        "np.percentile(df['Fare'], 75)"
      ],
      "execution_count": 11,
      "outputs": [
        {
          "output_type": "execute_result",
          "data": {
            "text/plain": [
              "31.0"
            ]
          },
          "metadata": {},
          "execution_count": 11
        }
      ]
    },
    {
      "cell_type": "markdown",
      "metadata": {
        "id": "4y6AJFowfNpr"
      },
      "source": [
        "## Verify that 75 percent of passengers paid less than 31.0 Dollar"
      ]
    },
    {
      "cell_type": "code",
      "metadata": {
        "id": "PHw-ow8DfNpr"
      },
      "source": [
        "# Slice the data based on Fare for those paid less than 31 Dollar\n",
        "numbers_below_percentile = df[df['Fare'] <= np.percentile(df[\"Fare\"], 75)]\n",
        "\n",
        "# Compute the size of the sliced dataframe and divide over all number of passengers\n",
        "pr_below_percentile = len(numbers_below_percentile)/len(df[\"Fare\"])\n",
        "\n",
        "pr_below_percentile"
      ],
      "execution_count": 12,
      "outputs": [
        {
          "output_type": "execute_result",
          "data": {
            "text/plain": [
              "0.7508417508417509"
            ]
          },
          "metadata": {},
          "execution_count": 12
        }
      ]
    }
  ]
}