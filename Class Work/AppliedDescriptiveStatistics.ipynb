{
  "nbformat": 4,
  "nbformat_minor": 0,
  "metadata": {
    "kernelspec": {
      "display_name": "Python 3",
      "language": "python",
      "name": "python3"
    },
    "language_info": {
      "codemirror_mode": {
        "name": "ipython",
        "version": 3
      },
      "file_extension": ".py",
      "mimetype": "text/x-python",
      "name": "python",
      "nbconvert_exporter": "python",
      "pygments_lexer": "ipython3",
      "version": "3.8.5"
    },
    "colab": {
      "name": "Applied_Descriptive_Statistics.ipynb",
      "provenance": []
    }
  },
  "cells": [
    {
      "cell_type": "markdown",
      "metadata": {
        "id": "ozdZIXIpfNph"
      },
      "source": [
        "# Learning Objectives\n",
        "\n",
        "At the end of this class, you will be able to...\n",
        "\n",
        "- Write down functions to compute mean, median and mode \n",
        "\n",
        "- Describe variance and what it reflects \n",
        "\n",
        "- Express the meaning of percentile"
      ]
    },
    {
      "cell_type": "markdown",
      "metadata": {
        "id": "axOCXi2mfNpj"
      },
      "source": [
        "# An Introduction to Descriptive Statistics\n",
        "\n",
        "- At this point in our course, we've had plenty of time, experience, and practice in manipulating our data. \n",
        "\n",
        "- However, to really _understand_ our data and underlying patterns across it, we need to dive a layer deeper into the mathematics behind data mechanics and dynamics.\n",
        "\n",
        "- In order to be able to draw conclusions from our data, we need to be able to **describe and interpret our data**.\n",
        "\n",
        "- This will become essential for more advanced data science concepts in data visualization, machine learning, and deep learning."
      ]
    },
    {
      "cell_type": "markdown",
      "metadata": {
        "id": "o7qqjQLufNpk"
      },
      "source": [
        "## Measures of Central Tendency\n",
        "\n",
        "A [**Central Tendency**](https://en.wikipedia.org/wiki/Central_tendency) is a central (typical) value for a probability distribution\n",
        "\n",
        "- In statistics, we often find that describing data by _averages_ allows us to more often make more powerful assertions regarding the data as a whole. \n",
        "\n",
        "- We often use **three key measures of central tendency** to help describe the **centroid** (arithmetic mean trend across a distribution) of our data:\n",
        "    - **Mean**\n",
        "    - **Median**\n",
        "    - **Mode**"
      ]
    },
    {
      "cell_type": "markdown",
      "metadata": {
        "id": "qjXpioLgfNpk"
      },
      "source": [
        "### The mean is the raw average value across our data. \n",
        "\n",
        "Calculating the mean is simple: _compute the sum of all values across our data and divide by the total number of values in our dataset_.\n",
        "\n",
        "We've been using the mean for years and years, but such a surprisingly simple arithmetic calculation turns out to have massive implications across being able to critically understand and break down complex datasets! \n"
      ]
    },
    {
      "cell_type": "markdown",
      "metadata": {
        "id": "fKhWjU5rfNpk"
      },
      "source": [
        "### Activity: _Write a function to compute the mean from an arbitrary dataset._"
      ]
    },
    {
      "cell_type": "code",
      "metadata": {
        "id": "-gowCogkfNpl",
        "colab": {
          "base_uri": "https://localhost:8080/"
        },
        "outputId": "13d1a71f-c097-418e-900b-fdf3067bc311"
      },
      "source": [
        "import numpy as np\n",
        "\n",
        "data = np.array([1, 3, 5, 2, 3, 7, 8, 4, 10, 0, 6, 7, 3, 0, 3, 0, 5, 7, 10, 1, 4, 9, 3])\n",
        "\n",
        "\n",
        "def compute_mean(dataset):\n",
        "  \"\"\" Main function that calculates the average value across our data. \"\"\"\n",
        "  sum = 0\n",
        "  for number in data:\n",
        "    sum += number\n",
        "\n",
        "  return sum / data.size\n",
        "    \n",
        "\n",
        "\n",
        "compute_mean(data)\n",
        "# data.mean()"
      ],
      "execution_count": null,
      "outputs": [
        {
          "output_type": "execute_result",
          "data": {
            "text/plain": [
              "4.391304347826087"
            ]
          },
          "metadata": {
            "tags": []
          },
          "execution_count": 14
        }
      ]
    },
    {
      "cell_type": "markdown",
      "metadata": {
        "id": "om_13EMsfNpl"
      },
      "source": [
        "## Activity (Titanic):\n",
        "\n",
        "- What is the average age of male passengers that survived?\n",
        "\n",
        "Once you've found the average, talk with a neighbor who has also found the average, and compare how you each came about to your solution"
      ]
    },
    {
      "cell_type": "code",
      "metadata": {
        "id": "KCC2EfB4fNpm",
        "colab": {
          "base_uri": "https://localhost:8080/"
        },
        "outputId": "c8b0ef3d-9edc-4b95-ac67-a40bcbb28dde"
      },
      "source": [
        "import pandas as pd\n",
        "titanicdf = pd.read_csv(\"https://raw.githubusercontent.com/Make-School-Courses/DS-1.1-Data-Analysis/master/Notebooks/Datasets/titanic.csv\")\n",
        "titanicdf.dropna(inplace=True)\n",
        "\n",
        "titanicdf[titanicdf[\"Sex\"] == \"male\"][\"Age\"].mean()"
      ],
      "execution_count": null,
      "outputs": [
        {
          "output_type": "execute_result",
          "data": {
            "text/plain": [
              "38.45178947368421"
            ]
          },
          "metadata": {
            "tags": []
          },
          "execution_count": 42
        }
      ]
    },
    {
      "cell_type": "code",
      "metadata": {
        "colab": {
          "base_uri": "https://localhost:8080/"
        },
        "id": "IsOv6v1WHCDo",
        "outputId": "5e7fe07e-1190-4f44-f67b-9efee6294752"
      },
      "source": [
        "titanicdf[(titanicdf[\"Survived\"] == 1) & (titanicdf[\"Age\"] > 20)][\"Fare\"].mean()"
      ],
      "execution_count": null,
      "outputs": [
        {
          "output_type": "execute_result",
          "data": {
            "text/plain": [
              "85.34500299999998"
            ]
          },
          "metadata": {
            "tags": []
          },
          "execution_count": 45
        }
      ]
    },
    {
      "cell_type": "markdown",
      "metadata": {
        "id": "ltWI70FhfNpm"
      },
      "source": [
        "### The median is the \"middle value\" or midpoint across our data.\n",
        "\n",
        "Determining the median is as simple as it sounds: _find the data value lying in the exact middle of our dataset_.\n",
        "\n",
        "One critical exception occurs when our data has an even number of values and thus has **two values** at its center: _in these cases, find the **mean** value of the two medians to obtain the true median across our data_. \n",
        "\n",
        "**Remember:** the median can only be calculated across _sorted data_!\n",
        "\n",
        "If data is distributed in a non-normal manner, then we can learn a great deal from interpreting what the exact median value of our dataset is. "
      ]
    },
    {
      "cell_type": "markdown",
      "metadata": {
        "id": "uJQ-3M4TfNpm"
      },
      "source": [
        "### Activity: _Write a function to compute the median from an arbitrary dataset._\n",
        "\n",
        "Once you write the function, compare with a neighbor's implementation"
      ]
    },
    {
      "cell_type": "code",
      "metadata": {
        "id": "0VtsNhFqfNpm",
        "colab": {
          "base_uri": "https://localhost:8080/"
        },
        "outputId": "d94a1c91-552e-47bd-bc4e-16513019ddb0"
      },
      "source": [
        "data = np.array([1, 3, 5, 2, 3, 7, 8, 4, 10, 0, 6, 7, 3, 0, 3, 0, 5, 7, 10, 1, 4, 9, 3])\n",
        "\n",
        "# TODO: Complete this function by having the function return the exact true median value of our dataset.\n",
        "# HINT: Consider using DataFrame slicing to help with identifying the correct median value(s).\n",
        "def compute_median(dataset):\n",
        "    \"\"\" Main function that determines the median value across our data. \"\"\"\n",
        "    count = len(dataset)\n",
        "    middle = count // 2\n",
        "    dataset = np.sort(dataset)\n",
        "\n",
        "    if count < 1:\n",
        "      return 0\n",
        "    if count % 2 == 1:\n",
        "      return dataset[middle]\n",
        "    else:\n",
        "      return (dataset[middle - 1] + dataset[middle]) / 2\n",
        "    \n",
        "compute_median(data)\n",
        "np.median(data)"
      ],
      "execution_count": null,
      "outputs": [
        {
          "output_type": "stream",
          "text": [
            "7.0\n"
          ],
          "name": "stdout"
        }
      ]
    },
    {
      "cell_type": "markdown",
      "metadata": {
        "id": "WCiAk4BqfNpn"
      },
      "source": [
        "### The mode is the most commonly occurring value or feature across our data.\n",
        "\n",
        "Determining the mode is relatively simple: _find the value that occurs most frequently across our data_.\n",
        "\n",
        "Remember that if all values across our data are unique and only occur once, then our data **has no mode**!\n",
        "\n",
        "The mode is also an interesting measure of _central tendency_ in that it can be applied towards categorical (non-numerical) data; one can find frequently occurring categories without running any calculations. "
      ]
    },
    {
      "cell_type": "markdown",
      "metadata": {
        "id": "MHJFRCx6fNpn"
      },
      "source": [
        "### Activity: _Write a function to compute the mode from an arbitrary dataset._\n",
        "\n",
        "Once you write the function, compare with a neighbor's implementation"
      ]
    },
    {
      "cell_type": "code",
      "metadata": {
        "id": "z3K4yxAZfNpn"
      },
      "source": [
        "# NOTE: Tricker than it looks!\n",
        "data = np.array([1, 3, 5, 2, 3, 7, 8, 4, 10, 0, 6, 7, 3, 0, 3, 0, 5, 7, 10, 1, 4, 9, 3])\n",
        "\n",
        "# TODO: Complete this function by having the function return the relative mode across our dataset.\n",
        "# HINT: Remember histograms and tokenization from CS 1.2? How many they help you here? \n",
        "def compute_mode(dataset):\n",
        "    \"\"\" Main function that determines the mode value across our data. \"\"\"\n",
        "    return\n",
        "\n",
        "compute_mode(data)"
      ],
      "execution_count": null,
      "outputs": []
    },
    {
      "cell_type": "markdown",
      "metadata": {
        "id": "kXI1BWGlfNpn"
      },
      "source": [
        "There we have it!\n",
        "\n",
        "Three measures of central tendency that are critically important to understanding the distribution of our data. \n",
        "\n",
        "In future classes on distributions and introductory inferential statistics, we'll talk more about exactly **why** these measures are so important. "
      ]
    },
    {
      "cell_type": "markdown",
      "metadata": {
        "id": "vR8I6ORCfNpo"
      },
      "source": [
        "## Measures of Spread and Variance\n",
        "\n",
        "Like our friends in the central tendency community, measures of spread and variance do their best to describe patterns across our data as a whole.\n",
        "\n",
        "However, unlike measures of central tendency, which focus on the distribution of our data towards an arithmetic centroid, measures of spread and variance talk about the shape and layout of our data all across the board!\n",
        "\n",
        "In this course, there are **two key measures of spread and variance** to help describe the shape of our data:\n",
        "- **Range**\n",
        "- **Variance**, **Standard Deviation**\n"
      ]
    },
    {
      "cell_type": "markdown",
      "metadata": {
        "id": "u5jMzhUXfNpo"
      },
      "source": [
        "## What is Range?\n",
        "\n",
        "**Range** is the difference between the highest and lowest values in a data set. It is one of the simplest measures of **spread** (the extent to which a distribution is stretched or squeezed). We'll use variance/standard deviation to help give more information around all of this!"
      ]
    },
    {
      "cell_type": "markdown",
      "metadata": {
        "id": "4FMQ_z_1fNpo"
      },
      "source": [
        "## What is standard deviation or variance?\n",
        "\n",
        "Let's learn it by example:\n",
        "    \n",
        "- We measured the number of rainy days during Fall in three different cities in the last 5 years:"
      ]
    },
    {
      "cell_type": "code",
      "metadata": {
        "id": "BEWWSyVSfNpp",
        "colab": {
          "base_uri": "https://localhost:8080/",
          "height": 514
        },
        "outputId": "9420a16d-65a2-48b8-de3b-403476693f1e"
      },
      "source": [
        "import pandas as pd\n",
        "import seaborn as sns\n",
        "import matplotlib.pyplot as plt\n",
        "import numpy as np\n",
        "\n",
        "df = pd.DataFrame({'Rainy':[29,28,32,35,36,12,18,30,45,55, 32,32,32,32,32], 'City':['City_A']*5 + ['City_B']*5 + ['City_C']*5})\n",
        "df"
      ],
      "execution_count": null,
      "outputs": [
        {
          "output_type": "execute_result",
          "data": {
            "text/html": [
              "<div>\n",
              "<style scoped>\n",
              "    .dataframe tbody tr th:only-of-type {\n",
              "        vertical-align: middle;\n",
              "    }\n",
              "\n",
              "    .dataframe tbody tr th {\n",
              "        vertical-align: top;\n",
              "    }\n",
              "\n",
              "    .dataframe thead th {\n",
              "        text-align: right;\n",
              "    }\n",
              "</style>\n",
              "<table border=\"1\" class=\"dataframe\">\n",
              "  <thead>\n",
              "    <tr style=\"text-align: right;\">\n",
              "      <th></th>\n",
              "      <th>Rainy</th>\n",
              "      <th>City</th>\n",
              "    </tr>\n",
              "  </thead>\n",
              "  <tbody>\n",
              "    <tr>\n",
              "      <th>0</th>\n",
              "      <td>29</td>\n",
              "      <td>City_A</td>\n",
              "    </tr>\n",
              "    <tr>\n",
              "      <th>1</th>\n",
              "      <td>28</td>\n",
              "      <td>City_A</td>\n",
              "    </tr>\n",
              "    <tr>\n",
              "      <th>2</th>\n",
              "      <td>32</td>\n",
              "      <td>City_A</td>\n",
              "    </tr>\n",
              "    <tr>\n",
              "      <th>3</th>\n",
              "      <td>35</td>\n",
              "      <td>City_A</td>\n",
              "    </tr>\n",
              "    <tr>\n",
              "      <th>4</th>\n",
              "      <td>36</td>\n",
              "      <td>City_A</td>\n",
              "    </tr>\n",
              "    <tr>\n",
              "      <th>5</th>\n",
              "      <td>12</td>\n",
              "      <td>City_B</td>\n",
              "    </tr>\n",
              "    <tr>\n",
              "      <th>6</th>\n",
              "      <td>18</td>\n",
              "      <td>City_B</td>\n",
              "    </tr>\n",
              "    <tr>\n",
              "      <th>7</th>\n",
              "      <td>30</td>\n",
              "      <td>City_B</td>\n",
              "    </tr>\n",
              "    <tr>\n",
              "      <th>8</th>\n",
              "      <td>45</td>\n",
              "      <td>City_B</td>\n",
              "    </tr>\n",
              "    <tr>\n",
              "      <th>9</th>\n",
              "      <td>55</td>\n",
              "      <td>City_B</td>\n",
              "    </tr>\n",
              "    <tr>\n",
              "      <th>10</th>\n",
              "      <td>32</td>\n",
              "      <td>City_C</td>\n",
              "    </tr>\n",
              "    <tr>\n",
              "      <th>11</th>\n",
              "      <td>32</td>\n",
              "      <td>City_C</td>\n",
              "    </tr>\n",
              "    <tr>\n",
              "      <th>12</th>\n",
              "      <td>32</td>\n",
              "      <td>City_C</td>\n",
              "    </tr>\n",
              "    <tr>\n",
              "      <th>13</th>\n",
              "      <td>32</td>\n",
              "      <td>City_C</td>\n",
              "    </tr>\n",
              "    <tr>\n",
              "      <th>14</th>\n",
              "      <td>32</td>\n",
              "      <td>City_C</td>\n",
              "    </tr>\n",
              "  </tbody>\n",
              "</table>\n",
              "</div>"
            ],
            "text/plain": [
              "    Rainy    City\n",
              "0      29  City_A\n",
              "1      28  City_A\n",
              "2      32  City_A\n",
              "3      35  City_A\n",
              "4      36  City_A\n",
              "5      12  City_B\n",
              "6      18  City_B\n",
              "7      30  City_B\n",
              "8      45  City_B\n",
              "9      55  City_B\n",
              "10     32  City_C\n",
              "11     32  City_C\n",
              "12     32  City_C\n",
              "13     32  City_C\n",
              "14     32  City_C"
            ]
          },
          "metadata": {
            "tags": []
          },
          "execution_count": 4
        }
      ]
    },
    {
      "cell_type": "markdown",
      "metadata": {
        "id": "juk8JGFefNpp"
      },
      "source": [
        "## What is the mean of rainy days for City A, B and C?"
      ]
    },
    {
      "cell_type": "code",
      "metadata": {
        "id": "knWEh5oPfNpp",
        "colab": {
          "base_uri": "https://localhost:8080/"
        },
        "outputId": "88e85d16-3b88-4ec2-fcee-9760dcb56e31"
      },
      "source": [
        "print(np.mean(df[df['City'] == 'City_A']['Rainy']))\n",
        "\n",
        "print(np.mean(df[df['City'] == 'City_B']['Rainy']))\n",
        "\n",
        "print(np.mean(df[df['City'] == 'City_C']['Rainy']))"
      ],
      "execution_count": null,
      "outputs": [
        {
          "output_type": "stream",
          "text": [
            "32.0\n",
            "32.0\n",
            "32.0\n"
          ],
          "name": "stdout"
        }
      ]
    },
    {
      "cell_type": "markdown",
      "metadata": {
        "id": "yQUb-MB2fNpp"
      },
      "source": [
        "## Which city has more variation?\n",
        "\n",
        "**Standard deviation (std), which is the square root of variance,** can capture the variations in different arrays\n",
        "\n",
        "[Docs on the std function](https://docs.scipy.org/doc/numpy/reference/generated/numpy.std.html) from Numpy"
      ]
    },
    {
      "cell_type": "code",
      "metadata": {
        "id": "fOfNiwpffNpq",
        "colab": {
          "base_uri": "https://localhost:8080/"
        },
        "outputId": "22152bc6-e868-4aa6-e655-281af4f04e4b"
      },
      "source": [
        "print(np.std(df[df['City'] == 'City_A']['Rainy']))\n",
        "\n",
        "print(np.std(df[df['City'] == 'City_B']['Rainy']))\n",
        "\n",
        "print(np.std(df[df['City'] == 'City_C']['Rainy']))"
      ],
      "execution_count": null,
      "outputs": [
        {
          "output_type": "stream",
          "text": [
            "3.1622776601683795\n",
            "16.112107248898266\n",
            "0.0\n"
          ],
          "name": "stdout"
        }
      ]
    },
    {
      "cell_type": "markdown",
      "metadata": {
        "id": "P16shLxDfNpq"
      },
      "source": [
        "## Let's plot the variations in the data"
      ]
    },
    {
      "cell_type": "code",
      "metadata": {
        "id": "rhrw0s7PfNpq",
        "colab": {
          "base_uri": "https://localhost:8080/",
          "height": 280
        },
        "outputId": "75445772-0a90-4333-8431-04af2ef1ea9e"
      },
      "source": [
        "sns.lineplot(y='Rainy', x='City', data=df)\n",
        "plt.show()"
      ],
      "execution_count": null,
      "outputs": [
        {
          "output_type": "display_data",
          "data": {
            "image/png": "[encoded data removed]",
            "text/plain": [
              "<Figure size 432x288 with 1 Axes>"
            ]
          },
          "metadata": {
            "tags": [],
            "needs_background": "light"
          }
        }
      ]
    },
    {
      "cell_type": "markdown",
      "metadata": {
        "id": "sClsnqXTfNpq"
      },
      "source": [
        "## Most (or majority) of the values (rainy days) in Cities A, B and C are between mean - std and mean + std"
      ]
    },
    {
      "cell_type": "code",
      "metadata": {
        "id": "PZTXe3zDfNpq",
        "colab": {
          "base_uri": "https://localhost:8080/"
        },
        "outputId": "fbfec40b-e739-44f0-ef96-cba80fa2e1ea"
      },
      "source": [
        "\n",
        "print([32 - np.std(df[df['City'] == 'City_A']['Rainy']), 32 + np.std(df[df['City'] == 'City_A']['Rainy'])])\n",
        "\n",
        "print([32 - np.std(df[df['City'] == 'City_B']['Rainy']), 32 + np.std(df[df['City'] == 'City_B']['Rainy'])])\n",
        "\n",
        "print([32 - np.std(df[df['City'] == 'City_C']['Rainy']), 32 + np.std(df[df['City'] == 'City_C']['Rainy'])])\n"
      ],
      "execution_count": null,
      "outputs": [
        {
          "output_type": "stream",
          "text": [
            "[28.837722339831622, 35.16227766016838]\n",
            "[15.887892751101734, 48.11210724889827]\n",
            "[32.0, 32.0]\n"
          ],
          "name": "stdout"
        }
      ]
    },
    {
      "cell_type": "markdown",
      "metadata": {
        "id": "IdW_eWMJfNpr"
      },
      "source": [
        "# Percentile\n",
        "\n",
        "The value below which a percentage of data falls.\n",
        "\n",
        "## Activity - Compute 75% Percentile for Fare in Titanic\n",
        "We want to compute:\n",
        "\n",
        "- What fare value did 75% of all the fare values fall below\n",
        "\n",
        "How would we do this?\n",
        "\n",
        "**Hint:** Use Numpy's [percentile](https://docs.scipy.org/doc/numpy/reference/generated/numpy.percentile.html) function\n",
        "\n",
        "When you're done, compare implementations with a neighbor"
      ]
    },
    {
      "cell_type": "code",
      "metadata": {
        "id": "EpC3h5PPfNpr",
        "colab": {
          "base_uri": "https://localhost:8080/",
          "height": 409
        },
        "outputId": "82a2dc65-8607-4750-9e65-240b8108a07b"
      },
      "source": [
        "df = pd.read_csv(\"Datasets/titanic.csv\")\n",
        "df\n",
        "np.percentile(df['Fare'], 75)"
      ],
      "execution_count": null,
      "outputs": [
        {
          "output_type": "error",
          "ename": "FileNotFoundError",
          "evalue": "ignored",
          "traceback": [
            "\u001b[0;31m---------------------------------------------------------------------------\u001b[0m",
            "\u001b[0;31mFileNotFoundError\u001b[0m                         Traceback (most recent call last)",
            "\u001b[0;32m<ipython-input-9-31d1722bb2c4>\u001b[0m in \u001b[0;36m<module>\u001b[0;34m()\u001b[0m\n\u001b[0;32m----> 1\u001b[0;31m \u001b[0mdf\u001b[0m \u001b[0;34m=\u001b[0m \u001b[0mpd\u001b[0m\u001b[0;34m.\u001b[0m\u001b[0mread_csv\u001b[0m\u001b[0;34m(\u001b[0m\u001b[0;34m\"Datasets/titanic.csv\"\u001b[0m\u001b[0;34m)\u001b[0m\u001b[0;34m\u001b[0m\u001b[0;34m\u001b[0m\u001b[0m\n\u001b[0m\u001b[1;32m      2\u001b[0m \u001b[0mdf\u001b[0m\u001b[0;34m\u001b[0m\u001b[0;34m\u001b[0m\u001b[0m\n\u001b[1;32m      3\u001b[0m \u001b[0mnp\u001b[0m\u001b[0;34m.\u001b[0m\u001b[0mpercentile\u001b[0m\u001b[0;34m(\u001b[0m\u001b[0mdf\u001b[0m\u001b[0;34m[\u001b[0m\u001b[0;34m'Fare'\u001b[0m\u001b[0;34m]\u001b[0m\u001b[0;34m,\u001b[0m \u001b[0;36m75\u001b[0m\u001b[0;34m)\u001b[0m\u001b[0;34m\u001b[0m\u001b[0;34m\u001b[0m\u001b[0m\n",
            "\u001b[0;32m/usr/local/lib/python3.6/dist-packages/pandas/io/parsers.py\u001b[0m in \u001b[0;36mread_csv\u001b[0;34m(filepath_or_buffer, sep, delimiter, header, names, index_col, usecols, squeeze, prefix, mangle_dupe_cols, dtype, engine, converters, true_values, false_values, skipinitialspace, skiprows, skipfooter, nrows, na_values, keep_default_na, na_filter, verbose, skip_blank_lines, parse_dates, infer_datetime_format, keep_date_col, date_parser, dayfirst, cache_dates, iterator, chunksize, compression, thousands, decimal, lineterminator, quotechar, quoting, doublequote, escapechar, comment, encoding, dialect, error_bad_lines, warn_bad_lines, delim_whitespace, low_memory, memory_map, float_precision)\u001b[0m\n\u001b[1;32m    686\u001b[0m     )\n\u001b[1;32m    687\u001b[0m \u001b[0;34m\u001b[0m\u001b[0m\n\u001b[0;32m--> 688\u001b[0;31m     \u001b[0;32mreturn\u001b[0m \u001b[0m_read\u001b[0m\u001b[0;34m(\u001b[0m\u001b[0mfilepath_or_buffer\u001b[0m\u001b[0;34m,\u001b[0m \u001b[0mkwds\u001b[0m\u001b[0;34m)\u001b[0m\u001b[0;34m\u001b[0m\u001b[0;34m\u001b[0m\u001b[0m\n\u001b[0m\u001b[1;32m    689\u001b[0m \u001b[0;34m\u001b[0m\u001b[0m\n\u001b[1;32m    690\u001b[0m \u001b[0;34m\u001b[0m\u001b[0m\n",
            "\u001b[0;32m/usr/local/lib/python3.6/dist-packages/pandas/io/parsers.py\u001b[0m in \u001b[0;36m_read\u001b[0;34m(filepath_or_buffer, kwds)\u001b[0m\n\u001b[1;32m    452\u001b[0m \u001b[0;34m\u001b[0m\u001b[0m\n\u001b[1;32m    453\u001b[0m     \u001b[0;31m# Create the parser.\u001b[0m\u001b[0;34m\u001b[0m\u001b[0;34m\u001b[0m\u001b[0;34m\u001b[0m\u001b[0m\n\u001b[0;32m--> 454\u001b[0;31m     \u001b[0mparser\u001b[0m \u001b[0;34m=\u001b[0m \u001b[0mTextFileReader\u001b[0m\u001b[0;34m(\u001b[0m\u001b[0mfp_or_buf\u001b[0m\u001b[0;34m,\u001b[0m \u001b[0;34m**\u001b[0m\u001b[0mkwds\u001b[0m\u001b[0;34m)\u001b[0m\u001b[0;34m\u001b[0m\u001b[0;34m\u001b[0m\u001b[0m\n\u001b[0m\u001b[1;32m    455\u001b[0m \u001b[0;34m\u001b[0m\u001b[0m\n\u001b[1;32m    456\u001b[0m     \u001b[0;32mif\u001b[0m \u001b[0mchunksize\u001b[0m \u001b[0;32mor\u001b[0m \u001b[0miterator\u001b[0m\u001b[0;34m:\u001b[0m\u001b[0;34m\u001b[0m\u001b[0;34m\u001b[0m\u001b[0m\n",
            "\u001b[0;32m/usr/local/lib/python3.6/dist-packages/pandas/io/parsers.py\u001b[0m in \u001b[0;36m__init__\u001b[0;34m(self, f, engine, **kwds)\u001b[0m\n\u001b[1;32m    946\u001b[0m             \u001b[0mself\u001b[0m\u001b[0;34m.\u001b[0m\u001b[0moptions\u001b[0m\u001b[0;34m[\u001b[0m\u001b[0;34m\"has_index_names\"\u001b[0m\u001b[0;34m]\u001b[0m \u001b[0;34m=\u001b[0m \u001b[0mkwds\u001b[0m\u001b[0;34m[\u001b[0m\u001b[0;34m\"has_index_names\"\u001b[0m\u001b[0;34m]\u001b[0m\u001b[0;34m\u001b[0m\u001b[0;34m\u001b[0m\u001b[0m\n\u001b[1;32m    947\u001b[0m \u001b[0;34m\u001b[0m\u001b[0m\n\u001b[0;32m--> 948\u001b[0;31m         \u001b[0mself\u001b[0m\u001b[0;34m.\u001b[0m\u001b[0m_make_engine\u001b[0m\u001b[0;34m(\u001b[0m\u001b[0mself\u001b[0m\u001b[0;34m.\u001b[0m\u001b[0mengine\u001b[0m\u001b[0;34m)\u001b[0m\u001b[0;34m\u001b[0m\u001b[0;34m\u001b[0m\u001b[0m\n\u001b[0m\u001b[1;32m    949\u001b[0m \u001b[0;34m\u001b[0m\u001b[0m\n\u001b[1;32m    950\u001b[0m     \u001b[0;32mdef\u001b[0m \u001b[0mclose\u001b[0m\u001b[0;34m(\u001b[0m\u001b[0mself\u001b[0m\u001b[0;34m)\u001b[0m\u001b[0;34m:\u001b[0m\u001b[0;34m\u001b[0m\u001b[0;34m\u001b[0m\u001b[0m\n",
            "\u001b[0;32m/usr/local/lib/python3.6/dist-packages/pandas/io/parsers.py\u001b[0m in \u001b[0;36m_make_engine\u001b[0;34m(self, engine)\u001b[0m\n\u001b[1;32m   1178\u001b[0m     \u001b[0;32mdef\u001b[0m \u001b[0m_make_engine\u001b[0m\u001b[0;34m(\u001b[0m\u001b[0mself\u001b[0m\u001b[0;34m,\u001b[0m \u001b[0mengine\u001b[0m\u001b[0;34m=\u001b[0m\u001b[0;34m\"c\"\u001b[0m\u001b[0;34m)\u001b[0m\u001b[0;34m:\u001b[0m\u001b[0;34m\u001b[0m\u001b[0;34m\u001b[0m\u001b[0m\n\u001b[1;32m   1179\u001b[0m         \u001b[0;32mif\u001b[0m \u001b[0mengine\u001b[0m \u001b[0;34m==\u001b[0m \u001b[0;34m\"c\"\u001b[0m\u001b[0;34m:\u001b[0m\u001b[0;34m\u001b[0m\u001b[0;34m\u001b[0m\u001b[0m\n\u001b[0;32m-> 1180\u001b[0;31m             \u001b[0mself\u001b[0m\u001b[0;34m.\u001b[0m\u001b[0m_engine\u001b[0m \u001b[0;34m=\u001b[0m \u001b[0mCParserWrapper\u001b[0m\u001b[0;34m(\u001b[0m\u001b[0mself\u001b[0m\u001b[0;34m.\u001b[0m\u001b[0mf\u001b[0m\u001b[0;34m,\u001b[0m \u001b[0;34m**\u001b[0m\u001b[0mself\u001b[0m\u001b[0;34m.\u001b[0m\u001b[0moptions\u001b[0m\u001b[0;34m)\u001b[0m\u001b[0;34m\u001b[0m\u001b[0;34m\u001b[0m\u001b[0m\n\u001b[0m\u001b[1;32m   1181\u001b[0m         \u001b[0;32melse\u001b[0m\u001b[0;34m:\u001b[0m\u001b[0;34m\u001b[0m\u001b[0;34m\u001b[0m\u001b[0m\n\u001b[1;32m   1182\u001b[0m             \u001b[0;32mif\u001b[0m \u001b[0mengine\u001b[0m \u001b[0;34m==\u001b[0m \u001b[0;34m\"python\"\u001b[0m\u001b[0;34m:\u001b[0m\u001b[0;34m\u001b[0m\u001b[0;34m\u001b[0m\u001b[0m\n",
            "\u001b[0;32m/usr/local/lib/python3.6/dist-packages/pandas/io/parsers.py\u001b[0m in \u001b[0;36m__init__\u001b[0;34m(self, src, **kwds)\u001b[0m\n\u001b[1;32m   2008\u001b[0m         \u001b[0mkwds\u001b[0m\u001b[0;34m[\u001b[0m\u001b[0;34m\"usecols\"\u001b[0m\u001b[0;34m]\u001b[0m \u001b[0;34m=\u001b[0m \u001b[0mself\u001b[0m\u001b[0;34m.\u001b[0m\u001b[0musecols\u001b[0m\u001b[0;34m\u001b[0m\u001b[0;34m\u001b[0m\u001b[0m\n\u001b[1;32m   2009\u001b[0m \u001b[0;34m\u001b[0m\u001b[0m\n\u001b[0;32m-> 2010\u001b[0;31m         \u001b[0mself\u001b[0m\u001b[0;34m.\u001b[0m\u001b[0m_reader\u001b[0m \u001b[0;34m=\u001b[0m \u001b[0mparsers\u001b[0m\u001b[0;34m.\u001b[0m\u001b[0mTextReader\u001b[0m\u001b[0;34m(\u001b[0m\u001b[0msrc\u001b[0m\u001b[0;34m,\u001b[0m \u001b[0;34m**\u001b[0m\u001b[0mkwds\u001b[0m\u001b[0;34m)\u001b[0m\u001b[0;34m\u001b[0m\u001b[0;34m\u001b[0m\u001b[0m\n\u001b[0m\u001b[1;32m   2011\u001b[0m         \u001b[0mself\u001b[0m\u001b[0;34m.\u001b[0m\u001b[0munnamed_cols\u001b[0m \u001b[0;34m=\u001b[0m \u001b[0mself\u001b[0m\u001b[0;34m.\u001b[0m\u001b[0m_reader\u001b[0m\u001b[0;34m.\u001b[0m\u001b[0munnamed_cols\u001b[0m\u001b[0;34m\u001b[0m\u001b[0;34m\u001b[0m\u001b[0m\n\u001b[1;32m   2012\u001b[0m \u001b[0;34m\u001b[0m\u001b[0m\n",
            "\u001b[0;32mpandas/_libs/parsers.pyx\u001b[0m in \u001b[0;36mpandas._libs.parsers.TextReader.__cinit__\u001b[0;34m()\u001b[0m\n",
            "\u001b[0;32mpandas/_libs/parsers.pyx\u001b[0m in \u001b[0;36mpandas._libs.parsers.TextReader._setup_parser_source\u001b[0;34m()\u001b[0m\n",
            "\u001b[0;31mFileNotFoundError\u001b[0m: [Errno 2] No such file or directory: 'Datasets/titanic.csv'"
          ]
        }
      ]
    },
    {
      "cell_type": "markdown",
      "metadata": {
        "id": "4y6AJFowfNpr"
      },
      "source": [
        "## Verify that 75 percent of passengers paid less than 31.0 Dollar"
      ]
    },
    {
      "cell_type": "code",
      "metadata": {
        "id": "PHw-ow8DfNpr"
      },
      "source": [
        "# Slice the data based on Fare for those paid less than 31 Dollar\n",
        "numbers_below_percentile = df[df['Fare'] <= np.percentile(ls_fare, 75)]\n",
        "\n",
        "# Compute the size of the sliced dataframe and divide over all number of passengers\n",
        "pr_below_percentile = len(numbers_below_percentile)/len(ls_fare)\n",
        "\n",
        "pr_below_percentile"
      ],
      "execution_count": null,
      "outputs": []
    }
  ]
}